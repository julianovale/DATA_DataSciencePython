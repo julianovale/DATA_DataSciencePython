{
  "nbformat": 4,
  "nbformat_minor": 0,
  "metadata": {
    "kernelspec": {
      "display_name": "Python 3",
      "language": "python",
      "name": "python3"
    },
    "language_info": {
      "codemirror_mode": {
        "name": "ipython",
        "version": 3
      },
      "file_extension": ".py",
      "mimetype": "text/x-python",
      "name": "python",
      "nbconvert_exporter": "python",
      "pygments_lexer": "ipython3",
      "version": "3.8.3"
    },
    "colab": {
      "name": "Aula07_DataSciencePython.ipynb",
      "provenance": [],
      "collapsed_sections": [],
      "include_colab_link": true
    }
  },
  "cells": [
    {
      "cell_type": "markdown",
      "metadata": {
        "id": "view-in-github",
        "colab_type": "text"
      },
      "source": [
        "<a href=\"https://colab.research.google.com/github/julianovale/DATA_DataSciencePython/blob/main/Aula07_DataSciencePython.ipynb\" target=\"_parent\"><img src=\"https://colab.research.google.com/assets/colab-badge.svg\" alt=\"Open In Colab\"/></a>"
      ]
    },
    {
      "cell_type": "markdown",
      "metadata": {
        "id": "jAIcFwIL0vdL"
      },
      "source": [
        "# Introdução à Data Science com Python - Data ICMC-USP\n",
        "\n",
        "Esse material foi desenvolvido pelo Data, grupo de extensão de aprendizado e ciência de dados compostos por alunos do Instituto de Ciências Matemáticas e de Computação da USP.\n",
        "\n",
        "Esse notebook é acompanhado de um curso em video, que pode ser encontrado em [aqui](https://www.youtube.com/playlist?list=PLFE-LjWAAP9SfEuLXf3qrpw4szKWjlYq9)\n",
        "\n",
        "Para saber mais sobre as atividades do Data entre no nosso site e nos siga e nossas redes sociais:\n",
        "- [Site](http://data.icmc.usp.br/)\n",
        "- [Twitter](https://twitter.com/data_icmc)\n",
        "- [LinkedIn](https://www.linkedin.com/school/data-icmc/)\n",
        "- [Facebook](https://www.facebook.com/dataICMC/)\n",
        "\n",
        "Aproveite o material!\n",
        "\n",
        "\n",
        "## NumPy\n",
        "\n",
        "NumPy é uma biblioteca para manipulação de vetores e matrizes, possuindo várias funções para lidar com esses dados. A biblioteca é muito eficiente e é usada como base para diversar outras bibliotecas de ciência de dados em Python. Iremos ver o material básico importante de NumPy, mas é muito recomendado conferir a documentação oficial em https://numpy.org/doc/, lá é possível encontrar exemplos de uso para todas as funcionalidades da biblioteca. "
      ]
    },
    {
      "cell_type": "code",
      "metadata": {
        "id": "1IIpD9bU0vdV"
      },
      "source": [
        "# É comum importar o numpy o chamando só de np \n",
        "import numpy as np"
      ],
      "execution_count": 4,
      "outputs": []
    },
    {
      "cell_type": "markdown",
      "metadata": {
        "id": "prD7VCWJ0vdW"
      },
      "source": [
        "### Arrays\n",
        "\n",
        "Arrays são a generalização de vetores e matrizes com qualquer número de dimensões. O `np.array` é o elemento central do NumPy, e é com eles que precisamos saber trabalhar.\n",
        "\n",
        "Como foi dito, um array numpy pode ter qualquer número de dimenções, vamos observar os exemplos na imagem a baixo:\n",
        "\n",
        "<img src=\"https://www.oreilly.com/library/view/elegant-scipy/9781491922927/assets/elsp_0105.png\">\n",
        "\n",
        "([fonte da imagem](https://www.oreilly.com/library/view/elegant-scipy/9781491922927/ch01.html))"
      ]
    },
    {
      "cell_type": "markdown",
      "metadata": {
        "id": "hEFT_vtT0vdX"
      },
      "source": [
        "Certo, então é possível ver que os arrays tem uma dimensão e uma tamanho em cada uma dessas dimenções. Cada dimensão é identificada por um eixo (*axis*) como podemos ver na imagem.\n",
        "\n",
        "Vamos trabalhar com um exemplo simples:"
      ]
    },
    {
      "cell_type": "code",
      "metadata": {
        "id": "ooX9yE70B7o8"
      },
      "source": [
        ""
      ],
      "execution_count": null,
      "outputs": []
    },
    {
      "cell_type": "code",
      "metadata": {
        "colab": {
          "base_uri": "https://localhost:8080/"
        },
        "id": "MLbmcGP90vdX",
        "outputId": "bd39d118-5433-41d1-9995-cfbe8aa4f349"
      },
      "source": [
        "# Vamos criar nosso primeiro array\n",
        "a = np.array([2, 3, 5, 7, 11])\n",
        "a"
      ],
      "execution_count": null,
      "outputs": [
        {
          "output_type": "execute_result",
          "data": {
            "text/plain": [
              "array([ 2,  3,  5,  7, 11])"
            ]
          },
          "metadata": {
            "tags": []
          },
          "execution_count": 2
        }
      ]
    },
    {
      "cell_type": "code",
      "metadata": {
        "colab": {
          "base_uri": "https://localhost:8080/"
        },
        "id": "JyBWnz6y0vdY",
        "outputId": "ff7c49d6-2c62-4875-a167-dd05e13c2df0"
      },
      "source": [
        "# O atributo ndim do array guarda seu número de dimenções\n",
        "a.ndim"
      ],
      "execution_count": null,
      "outputs": [
        {
          "output_type": "execute_result",
          "data": {
            "text/plain": [
              "1"
            ]
          },
          "metadata": {
            "tags": []
          },
          "execution_count": 3
        }
      ]
    },
    {
      "cell_type": "code",
      "metadata": {
        "colab": {
          "base_uri": "https://localhost:8080/"
        },
        "id": "UHPdCj0u0vdY",
        "outputId": "98e2ebda-ca52-4ed3-ff1b-7da101ea29dd"
      },
      "source": [
        "# O shape (formato) do array é um atributo ainda mais importante\n",
        "a.shape"
      ],
      "execution_count": null,
      "outputs": [
        {
          "output_type": "execute_result",
          "data": {
            "text/plain": [
              "(5,)"
            ]
          },
          "metadata": {
            "tags": []
          },
          "execution_count": 4
        }
      ]
    },
    {
      "cell_type": "code",
      "metadata": {
        "colab": {
          "base_uri": "https://localhost:8080/"
        },
        "id": "_fvXUZ8a0vdZ",
        "outputId": "df357a21-4ac4-4003-d09d-08fb906382a2"
      },
      "source": [
        "# Podemos acessar um entrada do array como fizemos com listas\n",
        "a[2]"
      ],
      "execution_count": null,
      "outputs": [
        {
          "output_type": "execute_result",
          "data": {
            "text/plain": [
              "5"
            ]
          },
          "metadata": {
            "tags": []
          },
          "execution_count": 5
        }
      ]
    },
    {
      "cell_type": "code",
      "metadata": {
        "colab": {
          "base_uri": "https://localhost:8080/"
        },
        "id": "0XZT0gGx0vdZ",
        "outputId": "b6464542-497e-40c8-987a-f9e35748125f"
      },
      "source": [
        "# Podemos também alterar uma entrada do array\n",
        "a[3] = 42\n",
        "a"
      ],
      "execution_count": null,
      "outputs": [
        {
          "output_type": "execute_result",
          "data": {
            "text/plain": [
              "array([ 2,  3,  5, 42, 11])"
            ]
          },
          "metadata": {
            "tags": []
          },
          "execution_count": 6
        }
      ]
    },
    {
      "cell_type": "markdown",
      "metadata": {
        "id": "x3vFddGa0vdZ"
      },
      "source": [
        "Tudo que fizemos aqui funciona para qualquer número de dimensões, vamos ver:"
      ]
    },
    {
      "cell_type": "code",
      "metadata": {
        "colab": {
          "base_uri": "https://localhost:8080/"
        },
        "id": "mAaTtdh80vda",
        "outputId": "09e0cb19-6256-4c06-c869-f59313f3cc18"
      },
      "source": [
        "# Criando uma matriz\n",
        "b = np.array([[10, 20], \n",
        "              [30, 40], \n",
        "              [50, 60]])\n",
        "b"
      ],
      "execution_count": null,
      "outputs": [
        {
          "output_type": "execute_result",
          "data": {
            "text/plain": [
              "array([[10, 20],\n",
              "       [30, 40],\n",
              "       [50, 60]])"
            ]
          },
          "metadata": {
            "tags": []
          },
          "execution_count": 7
        }
      ]
    },
    {
      "cell_type": "code",
      "metadata": {
        "colab": {
          "base_uri": "https://localhost:8080/"
        },
        "id": "tXebUIVd0vda",
        "outputId": "e009adf8-9b12-42af-9597-02ed1d97b876"
      },
      "source": [
        "# Visualizando número de dimensões e shape\n",
        "print(b.ndim)\n",
        "print(b.shape)"
      ],
      "execution_count": null,
      "outputs": [
        {
          "output_type": "stream",
          "text": [
            "2\n",
            "(3, 2)\n"
          ],
          "name": "stdout"
        }
      ]
    },
    {
      "cell_type": "code",
      "metadata": {
        "colab": {
          "base_uri": "https://localhost:8080/"
        },
        "id": "Cgem9Avs0vdb",
        "outputId": "87c75fad-49ee-4501-98a1-abf78a777fbf"
      },
      "source": [
        "# Agora precisamos informar a posição em cada eixo para acessar elementos\n",
        "b[2, 1]"
      ],
      "execution_count": null,
      "outputs": [
        {
          "output_type": "execute_result",
          "data": {
            "text/plain": [
              "60"
            ]
          },
          "metadata": {
            "tags": []
          },
          "execution_count": 9
        }
      ]
    },
    {
      "cell_type": "code",
      "metadata": {
        "colab": {
          "base_uri": "https://localhost:8080/"
        },
        "id": "-xAd4rig0vdb",
        "outputId": "79bb63ef-773c-4961-e46f-58733203505a"
      },
      "source": [
        "# Também podemos mudar entradas\n",
        "b[1, 0] = 23\n",
        "b"
      ],
      "execution_count": null,
      "outputs": [
        {
          "output_type": "execute_result",
          "data": {
            "text/plain": [
              "array([[10, 20],\n",
              "       [23, 40],\n",
              "       [50, 60]])"
            ]
          },
          "metadata": {
            "tags": []
          },
          "execution_count": 10
        }
      ]
    },
    {
      "cell_type": "markdown",
      "metadata": {
        "id": "ygw5gIx50vdb"
      },
      "source": [
        "**Pergunta:** Qual o shape de uma imagem em tons de cinza de tamanho 200x200? E de uma imagem RGB do mesmo tamanho?\n",
        "\n",
        "<img src=\"https://github.com/julianovale/DATA_DataSciencePython/blob/main/img/img_array.png?raw=true\">"
      ]
    },
    {
      "cell_type": "markdown",
      "metadata": {
        "id": "OUcJ5kIp5vU-"
      },
      "source": [
        "Tons de cinza: (200, 200) => 2D\r\n",
        "\r\n",
        "Colorida: (200, 200, 3) => 3D"
      ]
    },
    {
      "cell_type": "markdown",
      "metadata": {
        "id": "CNCO8IMq0vdb"
      },
      "source": [
        "### Gerando arrays\n",
        "Até aqui criamos todos nossos arrays definindo valores na mão utilizando listas em Python. Porém o NumPy possui funções convenientes para criar novos arrays"
      ]
    },
    {
      "cell_type": "code",
      "metadata": {
        "colab": {
          "base_uri": "https://localhost:8080/"
        },
        "id": "izeGkMDI0vdc",
        "outputId": "c9f77925-a4e2-4c5c-9423-862955c97a40"
      },
      "source": [
        "# Cria um array só com zeros com shape (2,2)\n",
        "a = np.zeros((2,2))\n",
        "a"
      ],
      "execution_count": null,
      "outputs": [
        {
          "output_type": "execute_result",
          "data": {
            "text/plain": [
              "array([[0., 0.],\n",
              "       [0., 0.]])"
            ]
          },
          "metadata": {
            "tags": []
          },
          "execution_count": 11
        }
      ]
    },
    {
      "cell_type": "code",
      "metadata": {
        "colab": {
          "base_uri": "https://localhost:8080/"
        },
        "id": "DcZ0A7Eo0vdc",
        "outputId": "45a961b2-1adf-4870-f713-54b4ecfbcab7"
      },
      "source": [
        "# Cria um array só com uns com shape (2,2)\n",
        "a = np.ones((2,2))\n",
        "a"
      ],
      "execution_count": null,
      "outputs": [
        {
          "output_type": "execute_result",
          "data": {
            "text/plain": [
              "array([[1., 1.],\n",
              "       [1., 1.]])"
            ]
          },
          "metadata": {
            "tags": []
          },
          "execution_count": 12
        }
      ]
    },
    {
      "cell_type": "code",
      "metadata": {
        "colab": {
          "base_uri": "https://localhost:8080/"
        },
        "id": "yx-U2k6L0vdc",
        "outputId": "94d2c39f-785f-4712-c295-c232c8017463"
      },
      "source": [
        "# Cria um array de shape (3,2) com valores aleatórios\n",
        "a = np.random.random((3,2))\n",
        "a"
      ],
      "execution_count": null,
      "outputs": [
        {
          "output_type": "execute_result",
          "data": {
            "text/plain": [
              "array([[0.08588102, 0.13070642],\n",
              "       [0.77185667, 0.81529719],\n",
              "       [0.53934995, 0.86400365]])"
            ]
          },
          "metadata": {
            "tags": []
          },
          "execution_count": 13
        }
      ]
    },
    {
      "cell_type": "code",
      "metadata": {
        "colab": {
          "base_uri": "https://localhost:8080/"
        },
        "id": "uUCNi-C20vdd",
        "outputId": "e09ffe73-d36e-43a0-9b9f-db28e197cbd5"
      },
      "source": [
        "# Cria um array com valores aleatorios inteiros (20 é o valor maxímo)\n",
        "a = np.random.randint(20, size=(3,2))\n",
        "a"
      ],
      "execution_count": null,
      "outputs": [
        {
          "output_type": "execute_result",
          "data": {
            "text/plain": [
              "array([[14,  2],\n",
              "       [11,  2],\n",
              "       [13, 19]])"
            ]
          },
          "metadata": {
            "tags": []
          },
          "execution_count": 14
        }
      ]
    },
    {
      "cell_type": "code",
      "metadata": {
        "colab": {
          "base_uri": "https://localhost:8080/"
        },
        "id": "HPIHEGLE0vdd",
        "outputId": "cb259a88-9bb7-4637-e919-893b4ffed73b"
      },
      "source": [
        "# Cria um vetor de 0 a 4\n",
        "a = np.arange(5)\n",
        "a"
      ],
      "execution_count": null,
      "outputs": [
        {
          "output_type": "execute_result",
          "data": {
            "text/plain": [
              "array([0, 1, 2, 3, 4])"
            ]
          },
          "metadata": {
            "tags": []
          },
          "execution_count": 15
        }
      ]
    },
    {
      "cell_type": "markdown",
      "metadata": {
        "id": "PUw51x_y0vdd"
      },
      "source": [
        "Não temos tempo de ver todas as funções desse tipo que existem, tente dar uma olhada em `np.zeros_like`, `np.full`, `np.linspace`, entre outras."
      ]
    },
    {
      "cell_type": "markdown",
      "metadata": {
        "id": "evaBl_q90vde"
      },
      "source": [
        "### Operações matemáticas\n",
        "\n",
        "Até agora pode não ter ficado muito claro o motivo de estarmos usando arrays do NumPy ao invés de usar simplesmente listas nativas do Python. A vantagem está justamente nas várias operações suportadas por arrays. Vamos ver alguns exemplos"
      ]
    },
    {
      "cell_type": "code",
      "metadata": {
        "id": "gfyElfTv0vde",
        "colab": {
          "base_uri": "https://localhost:8080/"
        },
        "outputId": "5b8ccde0-3f8d-4509-f17b-fa6718651096"
      },
      "source": [
        "# Vamos criar um vetor aleatorio que iremos utilizar\n",
        "a = np.random.randint(10, size=(5,))\n",
        "a"
      ],
      "execution_count": null,
      "outputs": [
        {
          "output_type": "execute_result",
          "data": {
            "text/plain": [
              "array([8, 9, 3, 8, 7])"
            ]
          },
          "metadata": {
            "tags": []
          },
          "execution_count": 24
        }
      ]
    },
    {
      "cell_type": "code",
      "metadata": {
        "id": "ze2d5FWa0vdg",
        "colab": {
          "base_uri": "https://localhost:8080/"
        },
        "outputId": "8ac55f8a-6444-4ae0-f8a1-c2a34459b2de"
      },
      "source": [
        "# Podemos realizar varias operaçoes\n",
        "\n",
        "print(a + 10) # Soma\n",
        "\n",
        "print(a - 4) # Subtração\n",
        "\n",
        "print(a * 3) # Multiplicação\n",
        "\n",
        "print(a / 2) # Divisão\n",
        "\n",
        "print(a ** 2) # Exponenciação\n",
        "\n",
        "print(a < 5) # Comparação"
      ],
      "execution_count": null,
      "outputs": [
        {
          "output_type": "stream",
          "text": [
            "[18 19 13 18 17]\n",
            "[ 4  5 -1  4  3]\n",
            "[24 27  9 24 21]\n",
            "[4.  4.5 1.5 4.  3.5]\n",
            "[64 81  9 64 49]\n",
            "[False False  True False False]\n"
          ],
          "name": "stdout"
        }
      ]
    },
    {
      "cell_type": "markdown",
      "metadata": {
        "id": "5OLWM9XD0vdg"
      },
      "source": [
        "Também podemos realizar operações entre arrays"
      ]
    },
    {
      "cell_type": "code",
      "metadata": {
        "id": "yBQE04CE0vdh",
        "colab": {
          "base_uri": "https://localhost:8080/"
        },
        "outputId": "872a5b18-0a68-483d-fa4b-1ae92d6a0c8d"
      },
      "source": [
        "# Vamos criar dois vetores aleatorios que iremos utilizar\n",
        "a = np.random.randint(10, size=(5,))\n",
        "b = np.random.randint(10, size=(5,))\n",
        "\n",
        "print(a)\n",
        "print(b)"
      ],
      "execution_count": null,
      "outputs": [
        {
          "output_type": "stream",
          "text": [
            "[1 0 9 7 2]\n",
            "[4 7 2 4 4]\n"
          ],
          "name": "stdout"
        }
      ]
    },
    {
      "cell_type": "code",
      "metadata": {
        "id": "DRjx-anF0vdi",
        "colab": {
          "base_uri": "https://localhost:8080/"
        },
        "outputId": "aa71fce3-2dc0-456c-aa2e-606d6574c565"
      },
      "source": [
        "# Podemos realizar soma (ou subtração) elemento a elemento\n",
        "print(a + b)"
      ],
      "execution_count": null,
      "outputs": [
        {
          "output_type": "stream",
          "text": [
            "[ 5  7 11 11  6]\n"
          ],
          "name": "stdout"
        }
      ]
    },
    {
      "cell_type": "code",
      "metadata": {
        "id": "QC3MGMxB0vdj",
        "colab": {
          "base_uri": "https://localhost:8080/"
        },
        "outputId": "12236c88-3e79-4463-9a16-4ac116393eab"
      },
      "source": [
        "# Também podemos realizar multiplicação (ou divisão) elemento a elemento\n",
        "print(a * b)"
      ],
      "execution_count": null,
      "outputs": [
        {
          "output_type": "stream",
          "text": [
            "[ 4  0 18 28  8]\n"
          ],
          "name": "stdout"
        }
      ]
    },
    {
      "cell_type": "code",
      "metadata": {
        "id": "TyI0Rlr60vdm",
        "colab": {
          "base_uri": "https://localhost:8080/",
          "height": 197
        },
        "outputId": "866c51b2-af38-4f17-9a23-a25af23cabc6"
      },
      "source": [
        "# Para isso é muito importante que os shapes sejam iguais\n",
        "c = np.random.randint(10, size=(7,))\n",
        "print(a + c)"
      ],
      "execution_count": null,
      "outputs": [
        {
          "output_type": "error",
          "ename": "ValueError",
          "evalue": "ignored",
          "traceback": [
            "\u001b[0;31m---------------------------------------------------------------------------\u001b[0m",
            "\u001b[0;31mValueError\u001b[0m                                Traceback (most recent call last)",
            "\u001b[0;32m<ipython-input-29-bec352d051b3>\u001b[0m in \u001b[0;36m<module>\u001b[0;34m()\u001b[0m\n\u001b[1;32m      1\u001b[0m \u001b[0;31m# Para isso é muito importante que os shapes sejam iguais\u001b[0m\u001b[0;34m\u001b[0m\u001b[0;34m\u001b[0m\u001b[0;34m\u001b[0m\u001b[0m\n\u001b[1;32m      2\u001b[0m \u001b[0mc\u001b[0m \u001b[0;34m=\u001b[0m \u001b[0mnp\u001b[0m\u001b[0;34m.\u001b[0m\u001b[0mrandom\u001b[0m\u001b[0;34m.\u001b[0m\u001b[0mrandint\u001b[0m\u001b[0;34m(\u001b[0m\u001b[0;36m10\u001b[0m\u001b[0;34m,\u001b[0m \u001b[0msize\u001b[0m\u001b[0;34m=\u001b[0m\u001b[0;34m(\u001b[0m\u001b[0;36m7\u001b[0m\u001b[0;34m,\u001b[0m\u001b[0;34m)\u001b[0m\u001b[0;34m)\u001b[0m\u001b[0;34m\u001b[0m\u001b[0;34m\u001b[0m\u001b[0m\n\u001b[0;32m----> 3\u001b[0;31m \u001b[0mprint\u001b[0m\u001b[0;34m(\u001b[0m\u001b[0ma\u001b[0m \u001b[0;34m+\u001b[0m \u001b[0mc\u001b[0m\u001b[0;34m)\u001b[0m\u001b[0;34m\u001b[0m\u001b[0;34m\u001b[0m\u001b[0m\n\u001b[0m",
            "\u001b[0;31mValueError\u001b[0m: operands could not be broadcast together with shapes (5,) (7,) "
          ]
        }
      ]
    },
    {
      "cell_type": "code",
      "metadata": {
        "id": "epQ_LMNO0vdn",
        "colab": {
          "base_uri": "https://localhost:8080/"
        },
        "outputId": "017249e7-f9f6-44d4-a454-3d2920085cb9"
      },
      "source": [
        "# Também temos operações como o produto escalar entre os vetores\n",
        "np.dot(a, b)"
      ],
      "execution_count": null,
      "outputs": [
        {
          "output_type": "execute_result",
          "data": {
            "text/plain": [
              "58"
            ]
          },
          "metadata": {
            "tags": []
          },
          "execution_count": 30
        }
      ]
    },
    {
      "cell_type": "markdown",
      "metadata": {
        "id": "XKBDq-OK0vdn"
      },
      "source": [
        "Lembre-se que tudo isso também vale para matrizes"
      ]
    },
    {
      "cell_type": "code",
      "metadata": {
        "id": "qHwBM41l0vdo",
        "colab": {
          "base_uri": "https://localhost:8080/"
        },
        "outputId": "f0017d5c-6cb3-468f-9d93-c53d0f91c4f1"
      },
      "source": [
        "# Vamos criar duas matrizes aleatorias que iremos utilizar\n",
        "a = np.random.randint(10, size=(3,4))\n",
        "b = np.random.randint(10, size=(3,4))\n",
        "\n",
        "print(a)\n",
        "print('-----')\n",
        "print(b)"
      ],
      "execution_count": null,
      "outputs": [
        {
          "output_type": "stream",
          "text": [
            "[[6 2 5 3]\n",
            " [2 1 5 7]\n",
            " [4 7 6 2]]\n",
            "-----\n",
            "[[1 8 4 5]\n",
            " [4 0 1 9]\n",
            " [4 9 6 1]]\n"
          ],
          "name": "stdout"
        }
      ]
    },
    {
      "cell_type": "code",
      "metadata": {
        "id": "JZm-iwcb0vdp",
        "colab": {
          "base_uri": "https://localhost:8080/"
        },
        "outputId": "56698e3e-b9eb-4111-c182-3089e58ac1a7"
      },
      "source": [
        "# Operações com escalares\n",
        "print(a + 100)\n",
        "print('-----')\n",
        "print(a * 3)"
      ],
      "execution_count": null,
      "outputs": [
        {
          "output_type": "stream",
          "text": [
            "[[106 102 105 103]\n",
            " [102 101 105 107]\n",
            " [104 107 106 102]]\n",
            "-----\n",
            "[[18  6 15  9]\n",
            " [ 6  3 15 21]\n",
            " [12 21 18  6]]\n"
          ],
          "name": "stdout"
        }
      ]
    },
    {
      "cell_type": "code",
      "metadata": {
        "id": "NGrdTf250vdp",
        "colab": {
          "base_uri": "https://localhost:8080/"
        },
        "outputId": "d0ae9d9b-8c34-403b-d586-6745fe771252"
      },
      "source": [
        "# Somando matrizes elemento a elemento\n",
        "print(a + b)"
      ],
      "execution_count": null,
      "outputs": [
        {
          "output_type": "stream",
          "text": [
            "[[ 7 10  9  8]\n",
            " [ 6  1  6 16]\n",
            " [ 8 16 12  3]]\n"
          ],
          "name": "stdout"
        }
      ]
    },
    {
      "cell_type": "code",
      "metadata": {
        "id": "4HLUDKg70vdq",
        "colab": {
          "base_uri": "https://localhost:8080/"
        },
        "outputId": "ee3a154c-9342-43cc-90fd-942766e94e2a"
      },
      "source": [
        "# Podemos transpor uma matriz\n",
        "print(b)\n",
        "print(b.T)"
      ],
      "execution_count": null,
      "outputs": [
        {
          "output_type": "stream",
          "text": [
            "[[1 8 4 5]\n",
            " [4 0 1 9]\n",
            " [4 9 6 1]]\n",
            "[[1 4 4]\n",
            " [8 0 9]\n",
            " [4 1 6]\n",
            " [5 9 1]]\n"
          ],
          "name": "stdout"
        }
      ]
    },
    {
      "cell_type": "code",
      "metadata": {
        "id": "EplZFRLJ0vdr",
        "colab": {
          "base_uri": "https://localhost:8080/"
        },
        "outputId": "c6b6f290-de79-4393-8a5a-fedfd4692e89"
      },
      "source": [
        "# Podemos multiplicar matrizes\n",
        "# (com np.dot, np.multiply é multiplicação elemento a elemento)\n",
        "c = np.random.randint(10, size=(4, 4))\n",
        "print(a)\n",
        "print('-------')\n",
        "print(c)\n",
        "print('Shapes:', a.shape, c.shape)\n",
        "print(np.dot(a, c))"
      ],
      "execution_count": null,
      "outputs": [
        {
          "output_type": "stream",
          "text": [
            "[4 0 6 0]\n",
            "-------\n",
            "[[2 5 6 2]\n",
            " [0 0 4 1]\n",
            " [5 2 6 9]\n",
            " [1 6 5 0]]\n",
            "Shapes: (4,) (4, 4)\n",
            "[38 32 60 62]\n"
          ],
          "name": "stdout"
        }
      ]
    },
    {
      "cell_type": "markdown",
      "metadata": {
        "id": "pviapAJn0vdy"
      },
      "source": [
        "Podemos fazer operações entre vetores e matrizes. De forma geral isso é chamado de *broadcasting*, mas vamos nos limitar a um caso simples"
      ]
    },
    {
      "cell_type": "code",
      "metadata": {
        "id": "n4Hr8oyx0vdz",
        "colab": {
          "base_uri": "https://localhost:8080/"
        },
        "outputId": "501fc2b4-352a-49a9-ebcb-bd91d38f881a"
      },
      "source": [
        "# Criando nosso vetor e nossa matriz\n",
        "a = np.random.randint(10, size=(4,))\n",
        "b = np.random.randint(20, size=(3,4))\n",
        "\n",
        "print(a)\n",
        "print() # Imprime linha em branco entre eles\n",
        "print(b)"
      ],
      "execution_count": null,
      "outputs": [
        {
          "output_type": "stream",
          "text": [
            "[8 9 9 5]\n",
            "\n",
            "[[ 5 17 18 17]\n",
            " [ 0  8 12 19]\n",
            " [13 16  2 19]]\n"
          ],
          "name": "stdout"
        }
      ]
    },
    {
      "cell_type": "code",
      "metadata": {
        "id": "_1RJ5H_60vd0",
        "colab": {
          "base_uri": "https://localhost:8080/"
        },
        "outputId": "6f8257d8-c7c3-4666-b3f9-5fd8d0bb7319"
      },
      "source": [
        "# Isso tem o efeito de subtrair cada linha da matriz pelo vetor\n",
        "b - a"
      ],
      "execution_count": null,
      "outputs": [
        {
          "output_type": "execute_result",
          "data": {
            "text/plain": [
              "array([[-3,  8,  9, 12],\n",
              "       [-8, -1,  3, 14],\n",
              "       [ 5,  7, -7, 14]])"
            ]
          },
          "metadata": {
            "tags": []
          },
          "execution_count": 43
        }
      ]
    },
    {
      "cell_type": "markdown",
      "metadata": {
        "id": "yYhh7wp70vd1"
      },
      "source": [
        "### Funções importantes"
      ]
    },
    {
      "cell_type": "markdown",
      "metadata": {
        "id": "bqaRHc3F0vd1"
      },
      "source": [
        "#### Funções de agregação"
      ]
    },
    {
      "cell_type": "code",
      "metadata": {
        "id": "C0t2MOsY0vd2",
        "colab": {
          "base_uri": "https://localhost:8080/"
        },
        "outputId": "70e7d4c3-df04-4416-9c09-f2dd215d71f7"
      },
      "source": [
        "# Vamos criar um vetor que iremos utilizar\n",
        "a = np.random.randint(20, size=(5,))\n",
        "print(a)"
      ],
      "execution_count": null,
      "outputs": [
        {
          "output_type": "stream",
          "text": [
            "[15  0  4  2  7]\n"
          ],
          "name": "stdout"
        }
      ]
    },
    {
      "cell_type": "code",
      "metadata": {
        "id": "ZyKaqDbG0vd2",
        "colab": {
          "base_uri": "https://localhost:8080/"
        },
        "outputId": "5b718125-dd38-43d4-94dc-b65d1b9944bd"
      },
      "source": [
        "# Soma\n",
        "np.sum(a) # ou a.sum()"
      ],
      "execution_count": null,
      "outputs": [
        {
          "output_type": "execute_result",
          "data": {
            "text/plain": [
              "28"
            ]
          },
          "metadata": {
            "tags": []
          },
          "execution_count": 45
        }
      ]
    },
    {
      "cell_type": "code",
      "metadata": {
        "id": "t-KgzxZW0vd3",
        "colab": {
          "base_uri": "https://localhost:8080/"
        },
        "outputId": "c429c8c5-9615-4ae5-c0a5-a0ec6b5ce856"
      },
      "source": [
        "# Média\n",
        "np.mean(a) # ou a.mean()"
      ],
      "execution_count": null,
      "outputs": [
        {
          "output_type": "execute_result",
          "data": {
            "text/plain": [
              "5.6"
            ]
          },
          "metadata": {
            "tags": []
          },
          "execution_count": 46
        }
      ]
    },
    {
      "cell_type": "markdown",
      "metadata": {
        "id": "GnfQJsT50vd4"
      },
      "source": [
        "Temos várias outras como `np.median`, `np.std`, `np.max`, `np.min`,...\n",
        "\n",
        "Isso também funciona com matrizes normalmente, mas também temos a opção de agregar por eixo"
      ]
    },
    {
      "cell_type": "code",
      "metadata": {
        "id": "O3K16gPF0vd5",
        "colab": {
          "base_uri": "https://localhost:8080/"
        },
        "outputId": "d3d28ab7-8ed8-44ee-e1d6-8dbaa1782240"
      },
      "source": [
        "# Vamos criar uma matriz que iremos utilizar\n",
        "a = np.random.randint(10, size=(3, 4))\n",
        "print(a)"
      ],
      "execution_count": null,
      "outputs": [
        {
          "output_type": "stream",
          "text": [
            "[[6 2 0 1]\n",
            " [1 2 4 0]\n",
            " [3 0 8 3]]\n"
          ],
          "name": "stdout"
        }
      ]
    },
    {
      "cell_type": "code",
      "metadata": {
        "id": "0SpLenOg0vd5",
        "colab": {
          "base_uri": "https://localhost:8080/"
        },
        "outputId": "5572279a-41d2-457b-938b-d9f687a20740"
      },
      "source": [
        "# Podemos somar toda a matriz\n",
        "np.sum(a)"
      ],
      "execution_count": null,
      "outputs": [
        {
          "output_type": "execute_result",
          "data": {
            "text/plain": [
              "30"
            ]
          },
          "metadata": {
            "tags": []
          },
          "execution_count": 48
        }
      ]
    },
    {
      "cell_type": "code",
      "metadata": {
        "id": "IIhKp1u40vd6",
        "colab": {
          "base_uri": "https://localhost:8080/"
        },
        "outputId": "9bbf20fe-74a6-45ca-ca00-3234561b703f"
      },
      "source": [
        "# Podemos somar as linhas\n",
        "np.sum(a, axis=1)"
      ],
      "execution_count": null,
      "outputs": [
        {
          "output_type": "execute_result",
          "data": {
            "text/plain": [
              "array([ 9,  7, 14])"
            ]
          },
          "metadata": {
            "tags": []
          },
          "execution_count": 49
        }
      ]
    },
    {
      "cell_type": "code",
      "metadata": {
        "scrolled": true,
        "id": "N2xC6dT40vd6",
        "colab": {
          "base_uri": "https://localhost:8080/"
        },
        "outputId": "02c201f9-a6a7-47ee-f7e2-25bf5fdba4f1"
      },
      "source": [
        "# Podemos somar as colunas\n",
        "np.sum(a, axis=0)"
      ],
      "execution_count": null,
      "outputs": [
        {
          "output_type": "execute_result",
          "data": {
            "text/plain": [
              "array([10,  4, 12,  4])"
            ]
          },
          "metadata": {
            "tags": []
          },
          "execution_count": 50
        }
      ]
    },
    {
      "cell_type": "markdown",
      "metadata": {
        "id": "0HVdSqK90vd7"
      },
      "source": [
        "#### Reshape\n",
        "Essa é uma função que nos permite alterar a shape de arrays"
      ]
    },
    {
      "cell_type": "code",
      "metadata": {
        "id": "hQIGuuTz0vd7",
        "colab": {
          "base_uri": "https://localhost:8080/"
        },
        "outputId": "064d79b5-7828-48f7-ffad-c56e648ffbd4"
      },
      "source": [
        "# Vamos criar um vetor que iremos utilizar\n",
        "a = np.random.randint(20, size=(18,))\n",
        "print(a)"
      ],
      "execution_count": null,
      "outputs": [
        {
          "output_type": "stream",
          "text": [
            "[16 14 13 13 13  7  2 16 19  5  6 12  0 17  1 18  9 13]\n"
          ],
          "name": "stdout"
        }
      ]
    },
    {
      "cell_type": "code",
      "metadata": {
        "id": "VZEQj_Cr0vd7",
        "colab": {
          "base_uri": "https://localhost:8080/"
        },
        "outputId": "588421e2-d72f-45c1-e464-0d66872a32a1"
      },
      "source": [
        "# Tranformar em matriz 9 por 2\n",
        "b = a.reshape(9, 2)\n",
        "print(b)\n",
        "\n",
        "c = a.reshape(2,9)\n",
        "print(c)"
      ],
      "execution_count": null,
      "outputs": [
        {
          "output_type": "stream",
          "text": [
            "[[16 14]\n",
            " [13 13]\n",
            " [13  7]\n",
            " [ 2 16]\n",
            " [19  5]\n",
            " [ 6 12]\n",
            " [ 0 17]\n",
            " [ 1 18]\n",
            " [ 9 13]]\n",
            "[[16 14 13 13 13  7  2 16 19]\n",
            " [ 5  6 12  0 17  1 18  9 13]]\n"
          ],
          "name": "stdout"
        }
      ]
    },
    {
      "cell_type": "code",
      "metadata": {
        "id": "lF7E12va0vd8",
        "colab": {
          "base_uri": "https://localhost:8080/"
        },
        "outputId": "d220b34a-4132-481b-9363-f18d1865f13d"
      },
      "source": [
        "# Tranformar em matriz 3 por 6\n",
        "c = a.reshape(3, 6)\n",
        "c"
      ],
      "execution_count": null,
      "outputs": [
        {
          "output_type": "execute_result",
          "data": {
            "text/plain": [
              "array([[16, 14, 13, 13, 13,  7],\n",
              "       [ 2, 16, 19,  5,  6, 12],\n",
              "       [ 0, 17,  1, 18,  9, 13]])"
            ]
          },
          "metadata": {
            "tags": []
          },
          "execution_count": 55
        }
      ]
    },
    {
      "cell_type": "code",
      "metadata": {
        "scrolled": true,
        "id": "WELxrO6R0vd8",
        "colab": {
          "base_uri": "https://localhost:8080/"
        },
        "outputId": "afcbc8d2-1910-4ee2-ac74-86c2ece7d8f5"
      },
      "source": [
        "# Tranformar em tensor 3D 3 por 2 por 3\n",
        "d = a.reshape(3, 2, 3)\n",
        "d"
      ],
      "execution_count": null,
      "outputs": [
        {
          "output_type": "execute_result",
          "data": {
            "text/plain": [
              "array([[[16, 14, 13],\n",
              "        [13, 13,  7]],\n",
              "\n",
              "       [[ 2, 16, 19],\n",
              "        [ 5,  6, 12]],\n",
              "\n",
              "       [[ 0, 17,  1],\n",
              "        [18,  9, 13]]])"
            ]
          },
          "metadata": {
            "tags": []
          },
          "execution_count": 56
        }
      ]
    },
    {
      "cell_type": "markdown",
      "metadata": {
        "id": "ilXNVPbH0vd8"
      },
      "source": [
        "### Indexação"
      ]
    },
    {
      "cell_type": "markdown",
      "metadata": {
        "id": "R1Xf92tU0vd9"
      },
      "source": [
        "#### Arrays 1D"
      ]
    },
    {
      "cell_type": "code",
      "metadata": {
        "id": "SwNOp1980vd9",
        "colab": {
          "base_uri": "https://localhost:8080/"
        },
        "outputId": "d063d151-35e3-4b5f-d6bc-1f9aa5ec9656"
      },
      "source": [
        "# Vamos criar um vetor que iremos utilizar\n",
        "a = np.random.randint(20, size=(10,))\n",
        "print(a)"
      ],
      "execution_count": 5,
      "outputs": [
        {
          "output_type": "stream",
          "text": [
            "[ 2  8  9  2  0 13  6 14 12  1]\n"
          ],
          "name": "stdout"
        }
      ]
    },
    {
      "cell_type": "code",
      "metadata": {
        "id": "pEcJQBKI0vd9",
        "colab": {
          "base_uri": "https://localhost:8080/"
        },
        "outputId": "9a22a173-946b-4753-a3da-b6f224259ccb"
      },
      "source": [
        "# Como já vimos podemos indexar exatamente como no Python puro\n",
        "print(a[4])\n",
        "print(a[5:8])"
      ],
      "execution_count": 6,
      "outputs": [
        {
          "output_type": "stream",
          "text": [
            "0\n",
            "[13  6 14]\n"
          ],
          "name": "stdout"
        }
      ]
    },
    {
      "cell_type": "code",
      "metadata": {
        "id": "sKKqR8S90vd-",
        "colab": {
          "base_uri": "https://localhost:8080/"
        },
        "outputId": "f800d523-fb10-44cf-a331-3a14bd8e5fd9"
      },
      "source": [
        "# Podemos indexar usando um lista dos valores que queremos\n",
        "print(a[[0, 2, 3]])"
      ],
      "execution_count": 7,
      "outputs": [
        {
          "output_type": "stream",
          "text": [
            "[2 9 2]\n"
          ],
          "name": "stdout"
        }
      ]
    },
    {
      "cell_type": "code",
      "metadata": {
        "scrolled": true,
        "id": "EzLxQ7q60vd-",
        "colab": {
          "base_uri": "https://localhost:8080/"
        },
        "outputId": "71aeb235-f8a3-4fa7-da78-3de2f0ff6e3b"
      },
      "source": [
        "# Podemos também indexar usando valores booleanos\n",
        "print(a[[False, True, False, False, False, True, True, False, True, True]])"
      ],
      "execution_count": 8,
      "outputs": [
        {
          "output_type": "stream",
          "text": [
            "[ 8 13  6 12  1]\n"
          ],
          "name": "stdout"
        }
      ]
    },
    {
      "cell_type": "code",
      "metadata": {
        "id": "RrujK0yV0veA",
        "colab": {
          "base_uri": "https://localhost:8080/"
        },
        "outputId": "5a1c3f64-6db1-4dee-c1f7-2d4e60572daf"
      },
      "source": [
        "# A indexação com booleanos é muito util combinado com comparação\n",
        "maior_que_10 = a > 10\n",
        "print(maior_que_10)\n",
        "b = a[maior_que_10]\n",
        "print(b)"
      ],
      "execution_count": 9,
      "outputs": [
        {
          "output_type": "stream",
          "text": [
            "[False False False False False  True False  True  True False]\n",
            "[13 14 12]\n"
          ],
          "name": "stdout"
        }
      ]
    },
    {
      "cell_type": "markdown",
      "metadata": {
        "id": "OUHv-RWV0veB"
      },
      "source": [
        "#### Arrays 2D"
      ]
    },
    {
      "cell_type": "code",
      "metadata": {
        "id": "L1y-460E0veB",
        "colab": {
          "base_uri": "https://localhost:8080/"
        },
        "outputId": "754da3f6-e95a-4015-8efa-a2fe6c445dbb"
      },
      "source": [
        "a = np.random.randint(50, size=(4,6))\n",
        "print(a)"
      ],
      "execution_count": 14,
      "outputs": [
        {
          "output_type": "stream",
          "text": [
            "[[36 20  5 33 21 48]\n",
            " [ 8 13 22  4 11 35]\n",
            " [ 5 24 47  0 42 45]\n",
            " [ 6 12  7 16 21 13]]\n"
          ],
          "name": "stdout"
        }
      ]
    },
    {
      "cell_type": "code",
      "metadata": {
        "id": "T8roPdCH0veC",
        "colab": {
          "base_uri": "https://localhost:8080/"
        },
        "outputId": "4d3a5d48-bc6d-4fe4-d61e-e8165b260ef0"
      },
      "source": [
        "# Podemos acessar elementos unicos informando a posição em cada eixo\n",
        "print(a[2, 4])"
      ],
      "execution_count": 15,
      "outputs": [
        {
          "output_type": "stream",
          "text": [
            "42\n"
          ],
          "name": "stdout"
        }
      ]
    },
    {
      "cell_type": "code",
      "metadata": {
        "scrolled": false,
        "id": "IjXwYFJH0veC",
        "colab": {
          "base_uri": "https://localhost:8080/"
        },
        "outputId": "1103301a-e80e-4191-eaa8-477b1a472ea2"
      },
      "source": [
        "# Podemos fatiar um pedaço da matriz fatiando em cada eixo\n",
        "print(a[1:3, 2: 5])"
      ],
      "execution_count": 16,
      "outputs": [
        {
          "output_type": "stream",
          "text": [
            "[[22  4 11]\n",
            " [47  0 42]]\n"
          ],
          "name": "stdout"
        }
      ]
    },
    {
      "cell_type": "code",
      "metadata": {
        "scrolled": false,
        "id": "LpHddFQQ0veC",
        "colab": {
          "base_uri": "https://localhost:8080/"
        },
        "outputId": "1c647a1f-a9ef-4481-e5f9-6b5cc31ec7ec"
      },
      "source": [
        "# Utilizar : sozinho significa que queros todos os valores do eixo em questão\n",
        "print(a[:, 2]) # Todas linhas da coluna 2\n",
        "print(a[1, :]) # Todas as colunas da linha 1\n",
        "print(a[1, 2:4]) # Colunas 2 e 3 da linha 1 "
      ],
      "execution_count": 17,
      "outputs": [
        {
          "output_type": "stream",
          "text": [
            "[ 5 22 47  7]\n",
            "[ 8 13 22  4 11 35]\n",
            "[22  4]\n"
          ],
          "name": "stdout"
        }
      ]
    },
    {
      "cell_type": "code",
      "metadata": {
        "id": "qrh2FD9_0veD",
        "colab": {
          "base_uri": "https://localhost:8080/"
        },
        "outputId": "f37f489b-d986-4c30-911a-502eb2db09f8"
      },
      "source": [
        "# Podemos realizar a indexação por booleanos também (mas vira 1D)\n",
        "a[a > 25]"
      ],
      "execution_count": 18,
      "outputs": [
        {
          "output_type": "execute_result",
          "data": {
            "text/plain": [
              "array([36, 33, 48, 35, 47, 42, 45])"
            ]
          },
          "metadata": {
            "tags": []
          },
          "execution_count": 18
        }
      ]
    },
    {
      "cell_type": "markdown",
      "metadata": {
        "id": "TQuVEk_N0veD"
      },
      "source": [
        "Esses conceitos são totalmente iguais para qualquer número de dimensões.\n",
        "\n",
        "**Pergunta:** Como podemos extrair apenas o canal verde de uma imagem RGB?\n",
        "\n",
        "\n",
        "**Minha resposta:** green = imagem[ : , : , 1]\n"
      ]
    },
    {
      "cell_type": "markdown",
      "metadata": {
        "id": "-98-sKho0veE"
      },
      "source": [
        "### Velocidade"
      ]
    },
    {
      "cell_type": "code",
      "metadata": {
        "id": "v1yfPOxC0veE",
        "colab": {
          "base_uri": "https://localhost:8080/"
        },
        "outputId": "73efca9e-af08-439c-a1ee-47f03f7c4a9f"
      },
      "source": [
        "a = [[j for j in range(10000)] for _ in range(1000)]\n",
        "b = np.array(a)\n",
        "b"
      ],
      "execution_count": 20,
      "outputs": [
        {
          "output_type": "execute_result",
          "data": {
            "text/plain": [
              "array([[   0,    1,    2, ..., 9997, 9998, 9999],\n",
              "       [   0,    1,    2, ..., 9997, 9998, 9999],\n",
              "       [   0,    1,    2, ..., 9997, 9998, 9999],\n",
              "       ...,\n",
              "       [   0,    1,    2, ..., 9997, 9998, 9999],\n",
              "       [   0,    1,    2, ..., 9997, 9998, 9999],\n",
              "       [   0,    1,    2, ..., 9997, 9998, 9999]])"
            ]
          },
          "metadata": {
            "tags": []
          },
          "execution_count": 20
        }
      ]
    },
    {
      "cell_type": "code",
      "metadata": {
        "id": "KJcQ8T8I0veE",
        "colab": {
          "base_uri": "https://localhost:8080/"
        },
        "outputId": "dd67bf7b-5215-4ee1-f407-f7daef907593"
      },
      "source": [
        "%%time\n",
        "for i in range(len(a)):\n",
        "    for j in range(len(a[0])):\n",
        "        a[i][j] *= 10"
      ],
      "execution_count": 23,
      "outputs": [
        {
          "output_type": "stream",
          "text": [
            "CPU times: user 1.54 s, sys: 5.09 ms, total: 1.54 s\n",
            "Wall time: 1.55 s\n"
          ],
          "name": "stdout"
        }
      ]
    },
    {
      "cell_type": "code",
      "metadata": {
        "id": "oRq2MiCw0veE",
        "colab": {
          "base_uri": "https://localhost:8080/"
        },
        "outputId": "fd8f1324-a4dd-45cf-983d-f2e61a7c86f3"
      },
      "source": [
        "%%time\n",
        "b *= 10"
      ],
      "execution_count": 24,
      "outputs": [
        {
          "output_type": "stream",
          "text": [
            "CPU times: user 16.2 ms, sys: 0 ns, total: 16.2 ms\n",
            "Wall time: 18.8 ms\n"
          ],
          "name": "stdout"
        }
      ]
    }
  ]
}