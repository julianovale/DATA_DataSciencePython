{
  "nbformat": 4,
  "nbformat_minor": 0,
  "metadata": {
    "kernelspec": {
      "display_name": "Python 3",
      "language": "python",
      "name": "python3"
    },
    "language_info": {
      "codemirror_mode": {
        "name": "ipython",
        "version": 3
      },
      "file_extension": ".py",
      "mimetype": "text/x-python",
      "name": "python",
      "nbconvert_exporter": "python",
      "pygments_lexer": "ipython3",
      "version": "3.8.3"
    },
    "colab": {
      "name": "Aula03_DataSciencePython.ipynb",
      "provenance": [],
      "collapsed_sections": [
        "3ymwiSb1UDGh",
        "_AZO_9EVUDGt",
        "e9Eo6PwgUDGv",
        "wIj0cMxuUDGx",
        "Pb_YaXgPUDG3",
        "SBddIzDcUDG5",
        "7tsg5H50UDG8"
      ],
      "include_colab_link": true
    }
  },
  "cells": [
    {
      "cell_type": "markdown",
      "metadata": {
        "id": "view-in-github",
        "colab_type": "text"
      },
      "source": [
        "<a href=\"https://colab.research.google.com/github/julianovale/DATA_DataSciencePython/blob/main/Aula03_DataSciencePython.ipynb\" target=\"_parent\"><img src=\"https://colab.research.google.com/assets/colab-badge.svg\" alt=\"Open In Colab\"/></a>"
      ]
    },
    {
      "cell_type": "markdown",
      "metadata": {
        "id": "UvsSUxhWUDF5"
      },
      "source": [
        "# Introdução à Data Science com Python - Data ICMC-USP\n",
        "\n",
        "Esse material foi desenvolvido pelo Data, grupo de extensão de aprendizado e ciência de dados compostos por alunos do Instituto de Ciências Matemáticas e de Computação da USP.\n",
        "\n",
        "Esse notebook é acompanhado de um curso em video, que pode ser encontrado em [aqui](https://www.youtube.com/playlist?list=PLFE-LjWAAP9SfEuLXf3qrpw4szKWjlYq9)\n",
        "\n",
        "Para saber mais sobre as atividades do Data entre no nosso site e nos siga e nossas redes sociais:\n",
        "- [Site](http://data.icmc.usp.br/)\n",
        "- [Twitter](https://twitter.com/data_icmc)\n",
        "- [LinkedIn](https://www.linkedin.com/school/data-icmc/)\n",
        "- [Facebook](https://www.facebook.com/dataICMC/)\n",
        "\n",
        "Aproveite o material!\n",
        "\n",
        "## Jupyter Notebook e Python"
      ]
    },
    {
      "cell_type": "markdown",
      "metadata": {
        "id": "HOsmq1W2UDGL"
      },
      "source": [
        "### Jupyter Notebook\n",
        "\n",
        "Isso daqui é um **Jupyter Notebook** é uma maneira de executar códigos Python (e de algumas outras linguagens) interativamente. Em oposição a um arquivo Python padrão (*.py*), onde o código é executado do começo ao fim, um Jupyter Notebook (*.ipynb*) permite que o programador execute o código em pequenos trechos, observando resultados intermediários.\n",
        "\n",
        "Além disso o notebooks permitem a inclusão de texto, imagens, videos e formulas matemáticas. Sendo assim ainda melhores para utilização em ciência de dados, permitindo explicar linhas de raciocínio e exibir gráficos."
      ]
    },
    {
      "cell_type": "markdown",
      "metadata": {
        "id": "KL1QxlJfUDGM"
      },
      "source": [
        "### Python\n",
        "\n",
        "Python é um linguagem de programação de propósito geral criada na década de 1990. A primeira coisa que é possível perceber ao se utilizar Python é que o código é bastante limpo e possui uma boa legibilidade. Para programadores que já possuem familiaridades com linguagens como C/C++ ou Java a adaptação ao Python é bem tranquila, e além disso a linguagem é uma excelente alternativa para começar a aprender programação.\n",
        "\n",
        "É muito importante perceber que esse não é um curso de Python, muito menos de programação. A introdução fornecida nessa aula tem como objetivo apresentar os principais pontos da linguagem, mas é muito recomendado para quem deseja entender de fato o que está acontecendo que estudo Python separadamente também. Nesse curso veremos como aplicar Python no contexto de ciência de dados, então um bom entendimento da linguagem é fundamental.\n",
        "\n",
        "Agora vamos a uma introdução prática ao Python!"
      ]
    },
    {
      "cell_type": "markdown",
      "metadata": {
        "id": "hn7Vj9mZUDGO"
      },
      "source": [
        "#### Variáveis"
      ]
    },
    {
      "cell_type": "code",
      "metadata": {
        "id": "fpYsF_ehUDGP"
      },
      "source": [
        "# Declarando algumas variaveis (isso é um comentário)\n",
        "nome = 'Juliano'\n",
        "idade = 41\n",
        "altura = 1.71\n",
        "solteiro = False"
      ],
      "execution_count": 1,
      "outputs": []
    },
    {
      "cell_type": "code",
      "metadata": {
        "colab": {
          "base_uri": "https://localhost:8080/"
        },
        "id": "LluPIFKsUDGR",
        "outputId": "68328cb7-dca0-4a88-aefe-383250480838"
      },
      "source": [
        "# Imprimindo o valor dessas variáveis\n",
        "print(nome)\n",
        "print(idade)\n",
        "print(altura)\n",
        "print(solteiro)"
      ],
      "execution_count": 2,
      "outputs": [
        {
          "output_type": "stream",
          "text": [
            "Juliano\n",
            "41\n",
            "1.71\n",
            "False\n"
          ],
          "name": "stdout"
        }
      ]
    },
    {
      "cell_type": "code",
      "metadata": {
        "colab": {
          "base_uri": "https://localhost:8080/"
        },
        "id": "402uM3e6UDGU",
        "outputId": "030be0fe-b3aa-4680-8fc3-18e4e9742cf9"
      },
      "source": [
        "# Podemos olhar o tipo das variaveis\n",
        "print(type(nome))\n",
        "print(type(idade))\n",
        "print(type(altura))\n",
        "print(type(solteiro))"
      ],
      "execution_count": 3,
      "outputs": [
        {
          "output_type": "stream",
          "text": [
            "<class 'str'>\n",
            "<class 'int'>\n",
            "<class 'float'>\n",
            "<class 'bool'>\n"
          ],
          "name": "stdout"
        }
      ]
    },
    {
      "cell_type": "markdown",
      "metadata": {
        "id": "3LfFKYz-UDGV"
      },
      "source": [
        "#### Operações"
      ]
    },
    {
      "cell_type": "code",
      "metadata": {
        "colab": {
          "base_uri": "https://localhost:8080/"
        },
        "id": "2xJuObtIUDGV",
        "outputId": "9879c4ed-955d-4d40-e5e5-db58ca56232c"
      },
      "source": [
        "# Temos todas as operações aritméticas populares\n",
        "a = idade + 10\n",
        "b = altura - 5\n",
        "c = altura * 2\n",
        "d = idade / 3\n",
        "\n",
        "print(idade)\n",
        "print('Soma 10:', a)\n",
        "print('Subtrai 5:', b)\n",
        "print('Multiplica por 2:', c)\n",
        "print('Divide por 3:', d)"
      ],
      "execution_count": 4,
      "outputs": [
        {
          "output_type": "stream",
          "text": [
            "41\n",
            "Soma 10: 51\n",
            "Subtrai 5: -3.29\n",
            "Multiplica por 2: 3.42\n",
            "Divide por 3: 13.666666666666666\n"
          ],
          "name": "stdout"
        }
      ]
    },
    {
      "cell_type": "code",
      "metadata": {
        "colab": {
          "base_uri": "https://localhost:8080/"
        },
        "id": "G57qjjAKUDGW",
        "outputId": "376f0dfb-834c-49ca-859c-f30c81be64d9"
      },
      "source": [
        "# Também pode-se destacar operações de módulo (resto da divisão)\n",
        "# e de divisão inteira, exponenciação\n",
        "\n",
        "e = idade % 10 # Modulo\n",
        "f = idade // 3 # Div. inteira\n",
        "ff = idade ** 3\n",
        "\n",
        "print('Modulo 10:', e)\n",
        "print('Divisão inteira por 3:', f)\n",
        "print('Idade elevada à 3ª potência:', ff)"
      ],
      "execution_count": 6,
      "outputs": [
        {
          "output_type": "stream",
          "text": [
            "Modulo 10: 1\n",
            "Divisão inteira por 3: 13\n",
            "Idade elevada à 3ª potência: 68921\n"
          ],
          "name": "stdout"
        }
      ]
    },
    {
      "cell_type": "markdown",
      "metadata": {
        "id": "DUkeV0WoUDGY"
      },
      "source": [
        "Podemos realizar operações na própria variavel de maneira simplificada"
      ]
    },
    {
      "cell_type": "code",
      "metadata": {
        "id": "JGWqisasUDGc"
      },
      "source": [
        "var = 10\n",
        "print(var)\n",
        "\n",
        "var += 5 # var = var + 5\n",
        "print(var)"
      ],
      "execution_count": null,
      "outputs": []
    },
    {
      "cell_type": "code",
      "metadata": {
        "id": "0S-SE1MaUDGc"
      },
      "source": [
        "# Isso não existe em Python\n",
        "var++"
      ],
      "execution_count": null,
      "outputs": []
    },
    {
      "cell_type": "code",
      "metadata": {
        "id": "OYPwxTo3UDGd"
      },
      "source": [
        "print(var)"
      ],
      "execution_count": null,
      "outputs": []
    },
    {
      "cell_type": "markdown",
      "metadata": {
        "id": "D9szWU8uUDGe"
      },
      "source": [
        "Um conceito diferente é o de operações aritméticas com dados que não são números"
      ]
    },
    {
      "cell_type": "code",
      "metadata": {
        "colab": {
          "base_uri": "https://localhost:8080/",
          "height": 35
        },
        "id": "Ty8VaIxqUDGe",
        "outputId": "c2e8a901-785c-42ab-c389-78641a450b76"
      },
      "source": [
        "# \"Soma\" de strings funciona como a concatenação\n",
        "'a' + 'b'"
      ],
      "execution_count": 7,
      "outputs": [
        {
          "output_type": "execute_result",
          "data": {
            "application/vnd.google.colaboratory.intrinsic+json": {
              "type": "string"
            },
            "text/plain": [
              "'ab'"
            ]
          },
          "metadata": {
            "tags": []
          },
          "execution_count": 7
        }
      ]
    },
    {
      "cell_type": "code",
      "metadata": {
        "colab": {
          "base_uri": "https://localhost:8080/"
        },
        "id": "-H4tbkBNUDGf",
        "outputId": "cec8bc9e-50bc-4618-e9ec-4fa59e31e928"
      },
      "source": [
        "# Por exemplo:\n",
        "sobrenome = 'Vale'\n",
        "nome_completo = nome + ' ' + sobrenome\n",
        "print(nome_completo)"
      ],
      "execution_count": 8,
      "outputs": [
        {
          "output_type": "stream",
          "text": [
            "Juliano Vale\n"
          ],
          "name": "stdout"
        }
      ]
    },
    {
      "cell_type": "code",
      "metadata": {
        "colab": {
          "base_uri": "https://localhost:8080/",
          "height": 35
        },
        "id": "9u7M70eQUDGg",
        "outputId": "64d39890-4a0d-41e2-ac12-e637f1aeadc5"
      },
      "source": [
        "# Também podemos fazer \"multiplicação\" com strings\n",
        "'abc' * 10 "
      ],
      "execution_count": 10,
      "outputs": [
        {
          "output_type": "execute_result",
          "data": {
            "application/vnd.google.colaboratory.intrinsic+json": {
              "type": "string"
            },
            "text/plain": [
              "'abcabcabcabcabcabcabcabcabcabc'"
            ]
          },
          "metadata": {
            "tags": []
          },
          "execution_count": 10
        }
      ]
    },
    {
      "cell_type": "markdown",
      "metadata": {
        "id": "0lPal5GjUDGh"
      },
      "source": [
        "É importante perceber que não temos \"subtração\" nem \"divisão\"."
      ]
    },
    {
      "cell_type": "markdown",
      "metadata": {
        "id": "3ymwiSb1UDGh"
      },
      "source": [
        "#### Listas\n",
        "Muitas vezes estaremos trabalhando com listas de valores"
      ]
    },
    {
      "cell_type": "code",
      "metadata": {
        "colab": {
          "base_uri": "https://localhost:8080/"
        },
        "id": "bhQfjaT9UDGi",
        "outputId": "420aef95-d347-4db0-bd6f-edba197dd6a0"
      },
      "source": [
        "# Utilizamos [] para definir listas\n",
        "lucro_por_mes = [100, 110, 200, 140]\n",
        "\n",
        "lucro_por_mes"
      ],
      "execution_count": 11,
      "outputs": [
        {
          "output_type": "execute_result",
          "data": {
            "text/plain": [
              "[100, 110, 200, 140]"
            ]
          },
          "metadata": {
            "tags": []
          },
          "execution_count": 11
        }
      ]
    },
    {
      "cell_type": "code",
      "metadata": {
        "colab": {
          "base_uri": "https://localhost:8080/"
        },
        "id": "u2_9_4kJUDGk",
        "outputId": "619d8522-1924-42ea-eb28-0ec8e2fb39a6"
      },
      "source": [
        "# Com a função len() podemos ver o tamanho da lista\n",
        "len(lucro_por_mes)"
      ],
      "execution_count": 12,
      "outputs": [
        {
          "output_type": "execute_result",
          "data": {
            "text/plain": [
              "4"
            ]
          },
          "metadata": {
            "tags": []
          },
          "execution_count": 12
        }
      ]
    },
    {
      "cell_type": "code",
      "metadata": {
        "scrolled": true,
        "colab": {
          "base_uri": "https://localhost:8080/"
        },
        "id": "PxEJQGKSUDGl",
        "outputId": "e3a4cbf0-4182-42ba-9a8f-c44e9ea628fe"
      },
      "source": [
        "# Podemos inserir elementos em listas com .append()\n",
        "lucro_por_mes.append(90)\n",
        "\n",
        "lucro_por_mes"
      ],
      "execution_count": 13,
      "outputs": [
        {
          "output_type": "execute_result",
          "data": {
            "text/plain": [
              "[100, 110, 200, 140, 90]"
            ]
          },
          "metadata": {
            "tags": []
          },
          "execution_count": 13
        }
      ]
    },
    {
      "cell_type": "code",
      "metadata": {
        "colab": {
          "base_uri": "https://localhost:8080/"
        },
        "id": "NXLYqf56UDGl",
        "outputId": "9214a71f-02c1-47fd-cd77-6f2bb26f78f0"
      },
      "source": [
        "# Também podemos concatenar duas listas\n",
        "lucro_por_mes = lucro_por_mes + [100, 80, 250]\n",
        "\n",
        "lucro_por_mes"
      ],
      "execution_count": 14,
      "outputs": [
        {
          "output_type": "execute_result",
          "data": {
            "text/plain": [
              "[100, 110, 200, 140, 90, 100, 80, 250]"
            ]
          },
          "metadata": {
            "tags": []
          },
          "execution_count": 14
        }
      ]
    },
    {
      "cell_type": "markdown",
      "metadata": {
        "id": "EBbZCAZVUDGl"
      },
      "source": [
        "Uma coisa muito importante em listas é acessar seus elementos, o que pode ser feito um a um ou por pedaços da lista"
      ]
    },
    {
      "cell_type": "code",
      "metadata": {
        "scrolled": true,
        "colab": {
          "base_uri": "https://localhost:8080/"
        },
        "id": "4zPcJvAjUDGm",
        "outputId": "78cf6594-d227-4785-d33f-bee54993f9db"
      },
      "source": [
        "# A indexação é feita com [] e começa no indice 0\n",
        "lucro_terceiro_mes = lucro_por_mes[2]\n",
        "\n",
        "lucro_terceiro_mes"
      ],
      "execution_count": 15,
      "outputs": [
        {
          "output_type": "execute_result",
          "data": {
            "text/plain": [
              "200"
            ]
          },
          "metadata": {
            "tags": []
          },
          "execution_count": 15
        }
      ]
    },
    {
      "cell_type": "code",
      "metadata": {
        "colab": {
          "base_uri": "https://localhost:8080/"
        },
        "id": "4Byfn1V0UDGm",
        "outputId": "6c57e339-41ac-4657-bdfa-76b0fe271a82"
      },
      "source": [
        "# Também podemos retornar um intervalo da lista usando :\n",
        "# Só é importante perceber que o intervalo é aberto na direita\n",
        "lucro_terceiro_ao_sexto = lucro_por_mes[2:6]\n",
        "\n",
        "lucro_terceiro_ao_sexto"
      ],
      "execution_count": 16,
      "outputs": [
        {
          "output_type": "execute_result",
          "data": {
            "text/plain": [
              "[200, 140, 90, 100]"
            ]
          },
          "metadata": {
            "tags": []
          },
          "execution_count": 16
        }
      ]
    },
    {
      "cell_type": "code",
      "metadata": {
        "colab": {
          "base_uri": "https://localhost:8080/"
        },
        "id": "hoQ2qkKhUDGm",
        "outputId": "4ca95d9a-866d-4361-8d41-027d2cb3f893"
      },
      "source": [
        "# Indices negativos significam indexar de trás para frente\n",
        "ultimo_lucro = lucro_por_mes[-1]\n",
        "\n",
        "ultimo_lucro"
      ],
      "execution_count": 17,
      "outputs": [
        {
          "output_type": "execute_result",
          "data": {
            "text/plain": [
              "250"
            ]
          },
          "metadata": {
            "tags": []
          },
          "execution_count": 17
        }
      ]
    },
    {
      "cell_type": "markdown",
      "metadata": {
        "id": "9UmBxIYsUDGp"
      },
      "source": [
        "Listas podem conter qualquer tipo de dados, inclusive misturando tipos diferentes em uma mesma lista"
      ]
    },
    {
      "cell_type": "code",
      "metadata": {
        "colab": {
          "base_uri": "https://localhost:8080/"
        },
        "id": "I2ogYajvUDGq",
        "outputId": "3bec30a4-c9e7-476d-e03e-4af76251b514"
      },
      "source": [
        "# Uma lista de strings\n",
        "filmes = ['Star Wars', 'Frances Ha', 'O Rei Leão']\n",
        "print(filmes)\n",
        "\n",
        "# Uma lista misturado vários tipos de dados\n",
        "minha_lista = [3.1415, 'Vinte', 42, True]\n",
        "print(minha_lista)"
      ],
      "execution_count": 18,
      "outputs": [
        {
          "output_type": "stream",
          "text": [
            "['Star Wars', 'Frances Ha', 'O Rei Leão']\n",
            "[3.1415, 'Vinte', 42, True]\n"
          ],
          "name": "stdout"
        }
      ]
    },
    {
      "cell_type": "markdown",
      "metadata": {
        "id": "76tE1RdPUDGr"
      },
      "source": [
        "Podemos inclusive fazer um lista de listas"
      ]
    },
    {
      "cell_type": "code",
      "metadata": {
        "colab": {
          "base_uri": "https://localhost:8080/"
        },
        "id": "Rh_dlOP1UDGr",
        "outputId": "433b9025-6262-4fc3-8395-d26a87bf1846"
      },
      "source": [
        "# Uma lista de listas\n",
        "gastos = [[10, 22, 13], [11, 50], [32, 21, 48]]\n",
        "print(gastos)"
      ],
      "execution_count": 19,
      "outputs": [
        {
          "output_type": "stream",
          "text": [
            "[[10, 22, 13], [11, 50], [32, 21, 48]]\n"
          ],
          "name": "stdout"
        }
      ]
    },
    {
      "cell_type": "code",
      "metadata": {
        "colab": {
          "base_uri": "https://localhost:8080/"
        },
        "id": "zdrLtG-VUDGs",
        "outputId": "20ab8260-033b-4d57-800f-56e4cd870f6b"
      },
      "source": [
        "# Para acessar usamos [] duas vezes\n",
        "gastos[1][0]"
      ],
      "execution_count": 20,
      "outputs": [
        {
          "output_type": "execute_result",
          "data": {
            "text/plain": [
              "11"
            ]
          },
          "metadata": {
            "tags": []
          },
          "execution_count": 20
        }
      ]
    },
    {
      "cell_type": "markdown",
      "metadata": {
        "id": "_AZO_9EVUDGt"
      },
      "source": [
        "#### Tuplas\n",
        "\n",
        "São muito semelhantes a listas, porem são imutáveis. São definidas com `()`"
      ]
    },
    {
      "cell_type": "code",
      "metadata": {
        "colab": {
          "base_uri": "https://localhost:8080/"
        },
        "id": "MyFOMUYNUDGu",
        "outputId": "ec010efb-87c9-41f3-ce6a-587b51b4b89b"
      },
      "source": [
        "# Criando uma tupla\n",
        "minha_tupla = (70, 84, 10, 12)\n",
        "\n",
        "print(minha_tupla)\n",
        "print(minha_tupla[2])\n",
        "print(minha_tupla[1:3])"
      ],
      "execution_count": 21,
      "outputs": [
        {
          "output_type": "stream",
          "text": [
            "(70, 84, 10, 12)\n",
            "10\n",
            "(84, 10)\n"
          ],
          "name": "stdout"
        }
      ]
    },
    {
      "cell_type": "code",
      "metadata": {
        "colab": {
          "base_uri": "https://localhost:8080/",
          "height": 180
        },
        "id": "201fSxYCUDGv",
        "outputId": "5ce24be8-7738-42c0-dc52-2736af979771"
      },
      "source": [
        "# Não podemos alterar valores\n",
        "minha_tupla[0] = 50"
      ],
      "execution_count": 22,
      "outputs": [
        {
          "output_type": "error",
          "ename": "TypeError",
          "evalue": "ignored",
          "traceback": [
            "\u001b[0;31m---------------------------------------------------------------------------\u001b[0m",
            "\u001b[0;31mTypeError\u001b[0m                                 Traceback (most recent call last)",
            "\u001b[0;32m<ipython-input-22-04086d0e4d43>\u001b[0m in \u001b[0;36m<module>\u001b[0;34m()\u001b[0m\n\u001b[1;32m      1\u001b[0m \u001b[0;31m# Não podemos alterar valores\u001b[0m\u001b[0;34m\u001b[0m\u001b[0;34m\u001b[0m\u001b[0;34m\u001b[0m\u001b[0m\n\u001b[0;32m----> 2\u001b[0;31m \u001b[0mminha_tupla\u001b[0m\u001b[0;34m[\u001b[0m\u001b[0;36m0\u001b[0m\u001b[0;34m]\u001b[0m \u001b[0;34m=\u001b[0m \u001b[0;36m50\u001b[0m\u001b[0;34m\u001b[0m\u001b[0;34m\u001b[0m\u001b[0m\n\u001b[0m",
            "\u001b[0;31mTypeError\u001b[0m: 'tuple' object does not support item assignment"
          ]
        }
      ]
    },
    {
      "cell_type": "markdown",
      "metadata": {
        "id": "e9Eo6PwgUDGv"
      },
      "source": [
        "#### Estruturas condicionais\n",
        "As estruturas condicionais do Python tem estrutura similar a outras linguagens de programação. O detalhe mais importante é que a definição dos blocos de código é através da identação, enquanto outras linguens usam simbolos como {}."
      ]
    },
    {
      "cell_type": "code",
      "metadata": {
        "id": "x0mE53WbUDGw"
      },
      "source": [
        "# Definindo uma variavel que vamos usar\n",
        "meu_numero = 42\n",
        "\n",
        "if meu_numero < 50:\n",
        "    print('Menor que 50')\n",
        "else:\n",
        "    print('Maior que 50')"
      ],
      "execution_count": null,
      "outputs": []
    },
    {
      "cell_type": "code",
      "metadata": {
        "id": "WWY4w3KFUDGw"
      },
      "source": [
        "meu_numero = 50\n",
        "\n",
        "# Assim como em outras linguagens temos elif\n",
        "if meu_numero < 50:\n",
        "    print('Menor que 50')\n",
        "elif meu_numero > 50:\n",
        "    print('Maior que 50')\n",
        "else:\n",
        "    print('Exatamente 50')"
      ],
      "execution_count": null,
      "outputs": []
    },
    {
      "cell_type": "markdown",
      "metadata": {
        "id": "wIj0cMxuUDGx"
      },
      "source": [
        "#### Estruturas de repetição\n",
        "Assim com outra linguagens o Python possui as estruturas de repetição `for` e `while`. É importante perceber que o _for_ do Python é um *for each*, conceito presente em outras linguagens de programação. Lembre-se da identação"
      ]
    },
    {
      "cell_type": "code",
      "metadata": {
        "id": "4jFj-pGuUDGy"
      },
      "source": [
        "# Definindo uma lista\n",
        "minha_lista = [3, 5, 7, 4, 9]\n",
        "\n",
        "# Vamos fazer um laço que imprima cada elemento da nossa lista\n",
        "for num in minha_lista:\n",
        "    print(num)"
      ],
      "execution_count": null,
      "outputs": []
    },
    {
      "cell_type": "code",
      "metadata": {
        "id": "nepX5xWHUDGz"
      },
      "source": [
        "# Vamos fazer algo mais interessante\n",
        "total = 0\n",
        "for lucro in lucro_por_mes:\n",
        "    total += lucro\n",
        "    \n",
        "num_meses = len(lucro_por_mes)\n",
        "media = total/num_meses\n",
        "media"
      ],
      "execution_count": null,
      "outputs": []
    },
    {
      "cell_type": "markdown",
      "metadata": {
        "id": "woUBM7KpUDG1"
      },
      "source": [
        "Em algumas situações queremos um laço que itere por uma variável com valores 0, 1, 2, 3, ... Podemos fazer isso utilizando o método `range()`"
      ]
    },
    {
      "cell_type": "code",
      "metadata": {
        "id": "QR8uSUgaUDG2"
      },
      "source": [
        "# Perceba que aqui o intervalo da direita também é aberto\n",
        "for i in range(8):\n",
        "    print(i, 2*i)"
      ],
      "execution_count": null,
      "outputs": []
    },
    {
      "cell_type": "code",
      "metadata": {
        "id": "RGmCz0puUDG2"
      },
      "source": [
        "# Pode começar de um valor diferente de 0\n",
        "for i in range(2, 9):\n",
        "    print(i, 2*i)"
      ],
      "execution_count": null,
      "outputs": []
    },
    {
      "cell_type": "code",
      "metadata": {
        "id": "t5xCKaIFUDG3"
      },
      "source": [
        "# Pode inclusive dar passos diferentes de 1\n",
        "for i in range(2, 9, 2):\n",
        "    print(i, 2*i)"
      ],
      "execution_count": null,
      "outputs": []
    },
    {
      "cell_type": "markdown",
      "metadata": {
        "id": "Pb_YaXgPUDG3"
      },
      "source": [
        "#### Dicionários\n",
        "Dicionário é uma estrutura de dados utilizada para armazenar informações do tipo chave-valor. Ele é definido com `{}` e seus elementos são acessados com `[]`"
      ]
    },
    {
      "cell_type": "code",
      "metadata": {
        "id": "ZD9UDja5UDG3"
      },
      "source": [
        "# Definindo um dicionário vazio\n",
        "idades = {}\n",
        "\n",
        "# Acrescentando dados\n",
        "idades['Maria'] = 23\n",
        "idades['João'] = 34\n",
        "idades['Jose'] = 28\n",
        "\n",
        "# Acessando um elemento através da chave e imprimindo o valor armazenado\n",
        "print(idades['Maria'])"
      ],
      "execution_count": null,
      "outputs": []
    },
    {
      "cell_type": "code",
      "metadata": {
        "id": "Ghm_tX0sUDG4"
      },
      "source": [
        "# Também podemos criar um dicionário já adicionando valores\n",
        "idades = {\n",
        "    'Maria': 23,\n",
        "    'João': 34,\n",
        "    'José': 28,\n",
        "}\n",
        "\n",
        "idades['João']"
      ],
      "execution_count": null,
      "outputs": []
    },
    {
      "cell_type": "markdown",
      "metadata": {
        "id": "9FvlNj_hUDG4"
      },
      "source": [
        "Algumas funções uteis para manipular dicionarios"
      ]
    },
    {
      "cell_type": "code",
      "metadata": {
        "id": "wDc62k6hUDG4"
      },
      "source": [
        "# Assim como listas len() retorna o tamanho\n",
        "print(len(idades))"
      ],
      "execution_count": null,
      "outputs": []
    },
    {
      "cell_type": "code",
      "metadata": {
        "scrolled": true,
        "id": "SqwcO-liUDG5"
      },
      "source": [
        "# Podemos conferir se um valor com uma certa chave já existe no dicionário\n",
        "print('Maria' in idades)\n",
        "print('Joana' in idades)"
      ],
      "execution_count": null,
      "outputs": []
    },
    {
      "cell_type": "markdown",
      "metadata": {
        "id": "SBddIzDcUDG5"
      },
      "source": [
        "#### Funções\n",
        "Assim como em outras linguagens podemos definir funções em Python, isso é feito através da palavra-chave `def`"
      ]
    },
    {
      "cell_type": "code",
      "metadata": {
        "id": "QHYNNwxIUDG5"
      },
      "source": [
        "# Definindo uma função simples\n",
        "def imprime_dobro(num):\n",
        "    print(num * 2)"
      ],
      "execution_count": null,
      "outputs": []
    },
    {
      "cell_type": "code",
      "metadata": {
        "id": "vCfV7x22UDG5"
      },
      "source": [
        "imprime_dobro(4)\n",
        "imprime_dobro(5)"
      ],
      "execution_count": null,
      "outputs": []
    },
    {
      "cell_type": "code",
      "metadata": {
        "id": "rawWwUpBUDG6"
      },
      "source": [
        "# Vamos definir uma função um pouco mais complexa\n",
        "def soma_lista(lista):\n",
        "    total = 0\n",
        "    for num in lista:\n",
        "        total += num\n",
        "    return total"
      ],
      "execution_count": null,
      "outputs": []
    },
    {
      "cell_type": "code",
      "metadata": {
        "scrolled": true,
        "id": "5d9dG3bSUDG6"
      },
      "source": [
        "soma_lista([2, 4, 5])"
      ],
      "execution_count": null,
      "outputs": []
    },
    {
      "cell_type": "code",
      "metadata": {
        "id": "6lrygfl3UDG7"
      },
      "source": [
        "# Funções podem retornar mais de um valor\n",
        "def soma_e_multiplica(a, b):\n",
        "    soma = a + b\n",
        "    multi = a * b\n",
        "    \n",
        "    return soma, multi"
      ],
      "execution_count": null,
      "outputs": []
    },
    {
      "cell_type": "code",
      "metadata": {
        "id": "pWfM5bY_UDG8"
      },
      "source": [
        "s, m = soma_e_multiplica(3, 2)\n",
        "print(s, m)"
      ],
      "execution_count": null,
      "outputs": []
    },
    {
      "cell_type": "markdown",
      "metadata": {
        "id": "7tsg5H50UDG8"
      },
      "source": [
        "#### Bibliotecas\n",
        "Bibliotecas são conjuntos de classes e funções que já estam prontas. Existem bibliotecas nativas do Python e bibliotecas de terceiros, com as mais diversas utilidades"
      ]
    },
    {
      "cell_type": "code",
      "metadata": {
        "id": "VqEBSn5qUDG9"
      },
      "source": [
        "# Funções relacionadas a números aleatórios\n",
        "import random\n",
        "\n",
        "# Numero aleatorio no intervalo [10, 20]\n",
        "print(random.randint(10, 20))"
      ],
      "execution_count": null,
      "outputs": []
    },
    {
      "cell_type": "code",
      "metadata": {
        "id": "u4rMIpwtUDG-"
      },
      "source": [
        "# Podemos importar apenas as funções que queremos\n",
        "from random import randint\n",
        "\n",
        "print(randint(10, 20))"
      ],
      "execution_count": null,
      "outputs": []
    },
    {
      "cell_type": "markdown",
      "metadata": {
        "id": "9A9WlKnnUDG-"
      },
      "source": [
        "<hr>"
      ]
    },
    {
      "cell_type": "markdown",
      "metadata": {
        "id": "ssa6XIChUDG_"
      },
      "source": [
        "O conteúdo básico de Python é esse, recomendamos fortemente que você busque outras fontes de estudo de Python para ter maior facilidade em taferas de ciência de dados. O que foi coberto aqui é bem introdutório, então no decorrer das aulas iremos introduzir alguns conceitos novos conforme surgir a necessidade."
      ]
    }
  ]
}