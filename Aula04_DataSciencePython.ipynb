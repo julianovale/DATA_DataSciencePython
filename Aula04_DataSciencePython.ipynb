{
  "nbformat": 4,
  "nbformat_minor": 0,
  "metadata": {
    "kernelspec": {
      "display_name": "Python 3",
      "language": "python",
      "name": "python3"
    },
    "language_info": {
      "codemirror_mode": {
        "name": "ipython",
        "version": 3
      },
      "file_extension": ".py",
      "mimetype": "text/x-python",
      "name": "python",
      "nbconvert_exporter": "python",
      "pygments_lexer": "ipython3",
      "version": "3.8.3"
    },
    "colab": {
      "name": "Aula04_DataSciencePython.ipynb",
      "provenance": [],
      "collapsed_sections": [],
      "include_colab_link": true
    }
  },
  "cells": [
    {
      "cell_type": "markdown",
      "metadata": {
        "id": "view-in-github",
        "colab_type": "text"
      },
      "source": [
        "<a href=\"https://colab.research.google.com/github/julianovale/DATA_DataSciencePython/blob/main/Aula04_DataSciencePython.ipynb\" target=\"_parent\"><img src=\"https://colab.research.google.com/assets/colab-badge.svg\" alt=\"Open In Colab\"/></a>"
      ]
    },
    {
      "cell_type": "markdown",
      "metadata": {
        "id": "UvsSUxhWUDF5"
      },
      "source": [
        "# Introdução à Data Science com Python - Data ICMC-USP\n",
        "\n",
        "Esse material foi desenvolvido pelo Data, grupo de extensão de aprendizado e ciência de dados compostos por alunos do Instituto de Ciências Matemáticas e de Computação da USP.\n",
        "\n",
        "Esse notebook é acompanhado de um curso em video, que pode ser encontrado em [aqui](https://www.youtube.com/playlist?list=PLFE-LjWAAP9SfEuLXf3qrpw4szKWjlYq9)\n",
        "\n",
        "Para saber mais sobre as atividades do Data entre no nosso site e nos siga e nossas redes sociais:\n",
        "- [Site](http://data.icmc.usp.br/)\n",
        "- [Twitter](https://twitter.com/data_icmc)\n",
        "- [LinkedIn](https://www.linkedin.com/school/data-icmc/)\n",
        "- [Facebook](https://www.facebook.com/dataICMC/)\n",
        "\n",
        "Aproveite o material!\n",
        "\n",
        "## Jupyter Notebook e Python"
      ]
    },
    {
      "cell_type": "markdown",
      "metadata": {
        "id": "HOsmq1W2UDGL"
      },
      "source": [
        "### Jupyter Notebook\n",
        "\n",
        "Isso daqui é um **Jupyter Notebook** é uma maneira de executar códigos Python (e de algumas outras linguagens) interativamente. Em oposição a um arquivo Python padrão (*.py*), onde o código é executado do começo ao fim, um Jupyter Notebook (*.ipynb*) permite que o programador execute o código em pequenos trechos, observando resultados intermediários.\n",
        "\n",
        "Além disso o notebooks permitem a inclusão de texto, imagens, videos e formulas matemáticas. Sendo assim ainda melhores para utilização em ciência de dados, permitindo explicar linhas de raciocínio e exibir gráficos."
      ]
    },
    {
      "cell_type": "markdown",
      "metadata": {
        "id": "KL1QxlJfUDGM"
      },
      "source": [
        "### Python\n",
        "\n",
        "Python é um linguagem de programação de propósito geral criada na década de 1990. A primeira coisa que é possível perceber ao se utilizar Python é que o código é bastante limpo e possui uma boa legibilidade. Para programadores que já possuem familiaridades com linguagens como C/C++ ou Java a adaptação ao Python é bem tranquila, e além disso a linguagem é uma excelente alternativa para começar a aprender programação.\n",
        "\n",
        "É muito importante perceber que esse não é um curso de Python, muito menos de programação. A introdução fornecida nessa aula tem como objetivo apresentar os principais pontos da linguagem, mas é muito recomendado para quem deseja entender de fato o que está acontecendo que estudo Python separadamente também. Nesse curso veremos como aplicar Python no contexto de ciência de dados, então um bom entendimento da linguagem é fundamental.\n",
        "\n",
        "Agora vamos a uma introdução prática ao Python!"
      ]
    },
    {
      "cell_type": "markdown",
      "metadata": {
        "id": "hn7Vj9mZUDGO"
      },
      "source": [
        "#### Variáveis"
      ]
    },
    {
      "cell_type": "code",
      "metadata": {
        "id": "fpYsF_ehUDGP"
      },
      "source": [
        "# Declarando algumas variaveis (isso é um comentário)\n",
        "nome = 'Juliano'\n",
        "idade = 41\n",
        "altura = 1.71\n",
        "solteiro = False"
      ],
      "execution_count": 31,
      "outputs": []
    },
    {
      "cell_type": "code",
      "metadata": {
        "colab": {
          "base_uri": "https://localhost:8080/"
        },
        "id": "LluPIFKsUDGR",
        "outputId": "dea10397-4fc2-4e59-c8ee-392b737632ba"
      },
      "source": [
        "# Imprimindo o valor dessas variáveis\n",
        "print(nome)\n",
        "print(idade)\n",
        "print(altura)\n",
        "print(solteiro)"
      ],
      "execution_count": 32,
      "outputs": [
        {
          "output_type": "stream",
          "text": [
            "Juliano\n",
            "41\n",
            "1.71\n",
            "False\n"
          ],
          "name": "stdout"
        }
      ]
    },
    {
      "cell_type": "code",
      "metadata": {
        "colab": {
          "base_uri": "https://localhost:8080/"
        },
        "id": "402uM3e6UDGU",
        "outputId": "6fa2a0d8-b42b-4a3e-b7ac-70b3d3b0a79c"
      },
      "source": [
        "# Podemos olhar o tipo das variaveis\n",
        "print(type(nome))\n",
        "print(type(idade))\n",
        "print(type(altura))\n",
        "print(type(solteiro))"
      ],
      "execution_count": 33,
      "outputs": [
        {
          "output_type": "stream",
          "text": [
            "<class 'str'>\n",
            "<class 'int'>\n",
            "<class 'float'>\n",
            "<class 'bool'>\n"
          ],
          "name": "stdout"
        }
      ]
    },
    {
      "cell_type": "markdown",
      "metadata": {
        "id": "3LfFKYz-UDGV"
      },
      "source": [
        "#### Operações"
      ]
    },
    {
      "cell_type": "code",
      "metadata": {
        "colab": {
          "base_uri": "https://localhost:8080/"
        },
        "id": "2xJuObtIUDGV",
        "outputId": "03c33947-55fe-431b-a289-07332bea91b6"
      },
      "source": [
        "# Temos todas as operações aritméticas populares\n",
        "a = idade + 10\n",
        "b = altura - 5\n",
        "c = altura * 2\n",
        "d = idade / 3\n",
        "\n",
        "print(idade)\n",
        "print('Soma 10:', a)\n",
        "print('Subtrai 5:', b)\n",
        "print('Multiplica por 2:', c)\n",
        "print('Divide por 3:', d)"
      ],
      "execution_count": 34,
      "outputs": [
        {
          "output_type": "stream",
          "text": [
            "41\n",
            "Soma 10: 51\n",
            "Subtrai 5: -3.29\n",
            "Multiplica por 2: 3.42\n",
            "Divide por 3: 13.666666666666666\n"
          ],
          "name": "stdout"
        }
      ]
    },
    {
      "cell_type": "code",
      "metadata": {
        "colab": {
          "base_uri": "https://localhost:8080/"
        },
        "id": "G57qjjAKUDGW",
        "outputId": "deb032c4-c32c-4074-c282-0592c02212ad"
      },
      "source": [
        "# Também pode-se destacar operações de módulo (resto da divisão)\n",
        "# e de divisão inteira, exponenciação\n",
        "\n",
        "e = idade % 10 # Modulo\n",
        "f = idade // 3 # Div. inteira\n",
        "ff = idade ** 3\n",
        "\n",
        "print('Modulo 10:', e)\n",
        "print('Divisão inteira por 3:', f)\n",
        "print('Idade elevada à 3ª potência:', ff)"
      ],
      "execution_count": 35,
      "outputs": [
        {
          "output_type": "stream",
          "text": [
            "Modulo 10: 1\n",
            "Divisão inteira por 3: 13\n",
            "Idade elevada à 3ª potência: 68921\n"
          ],
          "name": "stdout"
        }
      ]
    },
    {
      "cell_type": "markdown",
      "metadata": {
        "id": "DUkeV0WoUDGY"
      },
      "source": [
        "Podemos realizar operações na própria variavel de maneira simplificada"
      ]
    },
    {
      "cell_type": "code",
      "metadata": {
        "colab": {
          "base_uri": "https://localhost:8080/"
        },
        "id": "JGWqisasUDGc",
        "outputId": "e3b7f085-1368-4941-c3cf-dcf0d9e1bb98"
      },
      "source": [
        "var = 10\n",
        "print(var)\n",
        "\n",
        "var += 5 # var = var + 5\n",
        "print(var)"
      ],
      "execution_count": 36,
      "outputs": [
        {
          "output_type": "stream",
          "text": [
            "10\n",
            "15\n"
          ],
          "name": "stdout"
        }
      ]
    },
    {
      "cell_type": "code",
      "metadata": {
        "colab": {
          "base_uri": "https://localhost:8080/",
          "height": 129
        },
        "id": "0S-SE1MaUDGc",
        "outputId": "50a6d54f-fbfb-48f9-ec21-f1a2b90d8d8c"
      },
      "source": [
        "# Isso não existe em Python\n",
        "var++"
      ],
      "execution_count": 37,
      "outputs": [
        {
          "output_type": "error",
          "ename": "SyntaxError",
          "evalue": "ignored",
          "traceback": [
            "\u001b[0;36m  File \u001b[0;32m\"<ipython-input-37-8934bf02f07a>\"\u001b[0;36m, line \u001b[0;32m2\u001b[0m\n\u001b[0;31m    var++\u001b[0m\n\u001b[0m         ^\u001b[0m\n\u001b[0;31mSyntaxError\u001b[0m\u001b[0;31m:\u001b[0m invalid syntax\n"
          ]
        }
      ]
    },
    {
      "cell_type": "code",
      "metadata": {
        "colab": {
          "base_uri": "https://localhost:8080/"
        },
        "id": "OYPwxTo3UDGd",
        "outputId": "c154b7bc-789e-491d-e1c7-c9345956103f"
      },
      "source": [
        "print(var)"
      ],
      "execution_count": 38,
      "outputs": [
        {
          "output_type": "stream",
          "text": [
            "15\n"
          ],
          "name": "stdout"
        }
      ]
    },
    {
      "cell_type": "markdown",
      "metadata": {
        "id": "D9szWU8uUDGe"
      },
      "source": [
        "Um conceito diferente é o de operações aritméticas com dados que não são números"
      ]
    },
    {
      "cell_type": "code",
      "metadata": {
        "colab": {
          "base_uri": "https://localhost:8080/",
          "height": 35
        },
        "id": "Ty8VaIxqUDGe",
        "outputId": "859438de-b4d4-4b58-e543-a157c85d08bf"
      },
      "source": [
        "# \"Soma\" de strings funciona como a concatenação\n",
        "'a' + 'b'"
      ],
      "execution_count": 39,
      "outputs": [
        {
          "output_type": "execute_result",
          "data": {
            "application/vnd.google.colaboratory.intrinsic+json": {
              "type": "string"
            },
            "text/plain": [
              "'ab'"
            ]
          },
          "metadata": {
            "tags": []
          },
          "execution_count": 39
        }
      ]
    },
    {
      "cell_type": "code",
      "metadata": {
        "colab": {
          "base_uri": "https://localhost:8080/"
        },
        "id": "-H4tbkBNUDGf",
        "outputId": "b6707e39-d632-4c41-c336-a39f379acec4"
      },
      "source": [
        "# Por exemplo:\n",
        "sobrenome = 'Vale'\n",
        "nome_completo = nome + ' ' + sobrenome\n",
        "print(nome_completo)"
      ],
      "execution_count": 40,
      "outputs": [
        {
          "output_type": "stream",
          "text": [
            "Juliano Vale\n"
          ],
          "name": "stdout"
        }
      ]
    },
    {
      "cell_type": "code",
      "metadata": {
        "colab": {
          "base_uri": "https://localhost:8080/",
          "height": 35
        },
        "id": "9u7M70eQUDGg",
        "outputId": "955cc12c-2ad3-48ba-c5fc-4c274c6c92e3"
      },
      "source": [
        "# Também podemos fazer \"multiplicação\" com strings\n",
        "'abc' * 10 "
      ],
      "execution_count": 41,
      "outputs": [
        {
          "output_type": "execute_result",
          "data": {
            "application/vnd.google.colaboratory.intrinsic+json": {
              "type": "string"
            },
            "text/plain": [
              "'abcabcabcabcabcabcabcabcabcabc'"
            ]
          },
          "metadata": {
            "tags": []
          },
          "execution_count": 41
        }
      ]
    },
    {
      "cell_type": "markdown",
      "metadata": {
        "id": "0lPal5GjUDGh"
      },
      "source": [
        "É importante perceber que não temos \"subtração\" nem \"divisão\"."
      ]
    },
    {
      "cell_type": "markdown",
      "metadata": {
        "id": "3ymwiSb1UDGh"
      },
      "source": [
        "#### Listas\n",
        "Muitas vezes estaremos trabalhando com listas de valores"
      ]
    },
    {
      "cell_type": "code",
      "metadata": {
        "colab": {
          "base_uri": "https://localhost:8080/"
        },
        "id": "bhQfjaT9UDGi",
        "outputId": "26c4382f-3e17-4205-b774-6111cdbef949"
      },
      "source": [
        "# Utilizamos [] para definir listas\n",
        "lucro_por_mes = [100, 110, 200, 140]\n",
        "\n",
        "lucro_por_mes"
      ],
      "execution_count": 42,
      "outputs": [
        {
          "output_type": "execute_result",
          "data": {
            "text/plain": [
              "[100, 110, 200, 140]"
            ]
          },
          "metadata": {
            "tags": []
          },
          "execution_count": 42
        }
      ]
    },
    {
      "cell_type": "code",
      "metadata": {
        "colab": {
          "base_uri": "https://localhost:8080/"
        },
        "id": "u2_9_4kJUDGk",
        "outputId": "7353e60f-8892-41e7-9c41-77ae8360b4fe"
      },
      "source": [
        "# Com a função len() podemos ver o tamanho da lista\n",
        "len(lucro_por_mes)"
      ],
      "execution_count": 43,
      "outputs": [
        {
          "output_type": "execute_result",
          "data": {
            "text/plain": [
              "4"
            ]
          },
          "metadata": {
            "tags": []
          },
          "execution_count": 43
        }
      ]
    },
    {
      "cell_type": "code",
      "metadata": {
        "scrolled": true,
        "colab": {
          "base_uri": "https://localhost:8080/"
        },
        "id": "PxEJQGKSUDGl",
        "outputId": "096011b3-8d65-4413-b20e-19c45328f8e5"
      },
      "source": [
        "# Podemos inserir elementos em listas com .append()\n",
        "lucro_por_mes.append(90)\n",
        "\n",
        "lucro_por_mes"
      ],
      "execution_count": 44,
      "outputs": [
        {
          "output_type": "execute_result",
          "data": {
            "text/plain": [
              "[100, 110, 200, 140, 90]"
            ]
          },
          "metadata": {
            "tags": []
          },
          "execution_count": 44
        }
      ]
    },
    {
      "cell_type": "code",
      "metadata": {
        "colab": {
          "base_uri": "https://localhost:8080/"
        },
        "id": "NXLYqf56UDGl",
        "outputId": "573c8d81-f6f0-421b-b3ef-391a6577a43f"
      },
      "source": [
        "# Também podemos concatenar duas listas\n",
        "lucro_por_mes = lucro_por_mes + [100, 80, 250]\n",
        "\n",
        "lucro_por_mes"
      ],
      "execution_count": 45,
      "outputs": [
        {
          "output_type": "execute_result",
          "data": {
            "text/plain": [
              "[100, 110, 200, 140, 90, 100, 80, 250]"
            ]
          },
          "metadata": {
            "tags": []
          },
          "execution_count": 45
        }
      ]
    },
    {
      "cell_type": "markdown",
      "metadata": {
        "id": "EBbZCAZVUDGl"
      },
      "source": [
        "Uma coisa muito importante em listas é acessar seus elementos, o que pode ser feito um a um ou por pedaços da lista"
      ]
    },
    {
      "cell_type": "code",
      "metadata": {
        "scrolled": true,
        "colab": {
          "base_uri": "https://localhost:8080/"
        },
        "id": "4zPcJvAjUDGm",
        "outputId": "572490d3-0e26-4905-c398-010e166b9db9"
      },
      "source": [
        "# A indexação é feita com [] e começa no indice 0\n",
        "lucro_terceiro_mes = lucro_por_mes[2]\n",
        "\n",
        "lucro_terceiro_mes"
      ],
      "execution_count": 46,
      "outputs": [
        {
          "output_type": "execute_result",
          "data": {
            "text/plain": [
              "200"
            ]
          },
          "metadata": {
            "tags": []
          },
          "execution_count": 46
        }
      ]
    },
    {
      "cell_type": "code",
      "metadata": {
        "colab": {
          "base_uri": "https://localhost:8080/"
        },
        "id": "4Byfn1V0UDGm",
        "outputId": "a2ef3a1e-d1c6-48d6-84aa-4cdf7e0c8091"
      },
      "source": [
        "# Também podemos retornar um intervalo da lista usando :\n",
        "# Só é importante perceber que o intervalo é aberto na direita\n",
        "lucro_terceiro_ao_sexto = lucro_por_mes[2:6]\n",
        "\n",
        "lucro_terceiro_ao_sexto"
      ],
      "execution_count": 47,
      "outputs": [
        {
          "output_type": "execute_result",
          "data": {
            "text/plain": [
              "[200, 140, 90, 100]"
            ]
          },
          "metadata": {
            "tags": []
          },
          "execution_count": 47
        }
      ]
    },
    {
      "cell_type": "code",
      "metadata": {
        "colab": {
          "base_uri": "https://localhost:8080/"
        },
        "id": "hoQ2qkKhUDGm",
        "outputId": "0ec75f7b-6478-4056-b233-f0fe42e662c1"
      },
      "source": [
        "# Indices negativos significam indexar de trás para frente\n",
        "ultimo_lucro = lucro_por_mes[-1]\n",
        "\n",
        "ultimo_lucro"
      ],
      "execution_count": 48,
      "outputs": [
        {
          "output_type": "execute_result",
          "data": {
            "text/plain": [
              "250"
            ]
          },
          "metadata": {
            "tags": []
          },
          "execution_count": 48
        }
      ]
    },
    {
      "cell_type": "markdown",
      "metadata": {
        "id": "9UmBxIYsUDGp"
      },
      "source": [
        "Listas podem conter qualquer tipo de dados, inclusive misturando tipos diferentes em uma mesma lista"
      ]
    },
    {
      "cell_type": "code",
      "metadata": {
        "colab": {
          "base_uri": "https://localhost:8080/"
        },
        "id": "I2ogYajvUDGq",
        "outputId": "ed79db79-2f5e-4d25-9d9b-a7ad0ae51856"
      },
      "source": [
        "# Uma lista de strings\n",
        "filmes = ['Star Wars', 'Frances Ha', 'O Rei Leão']\n",
        "print(filmes)\n",
        "\n",
        "# Uma lista misturado vários tipos de dados\n",
        "minha_lista = [3.1415, 'Vinte', 42, True]\n",
        "print(minha_lista)"
      ],
      "execution_count": 49,
      "outputs": [
        {
          "output_type": "stream",
          "text": [
            "['Star Wars', 'Frances Ha', 'O Rei Leão']\n",
            "[3.1415, 'Vinte', 42, True]\n"
          ],
          "name": "stdout"
        }
      ]
    },
    {
      "cell_type": "markdown",
      "metadata": {
        "id": "76tE1RdPUDGr"
      },
      "source": [
        "Podemos inclusive fazer um lista de listas"
      ]
    },
    {
      "cell_type": "code",
      "metadata": {
        "colab": {
          "base_uri": "https://localhost:8080/"
        },
        "id": "Rh_dlOP1UDGr",
        "outputId": "afb3a2c9-b61b-4d22-a386-5e267f1a8b55"
      },
      "source": [
        "# Uma lista de listas\n",
        "gastos = [[10, 22, 13], [11, 50], [32, 21, 48]]\n",
        "print(gastos)"
      ],
      "execution_count": 50,
      "outputs": [
        {
          "output_type": "stream",
          "text": [
            "[[10, 22, 13], [11, 50], [32, 21, 48]]\n"
          ],
          "name": "stdout"
        }
      ]
    },
    {
      "cell_type": "code",
      "metadata": {
        "colab": {
          "base_uri": "https://localhost:8080/"
        },
        "id": "zdrLtG-VUDGs",
        "outputId": "91772050-60da-411e-af4f-59c4a41484d6"
      },
      "source": [
        "# Para acessar usamos [] duas vezes\n",
        "gastos[1][0]"
      ],
      "execution_count": 51,
      "outputs": [
        {
          "output_type": "execute_result",
          "data": {
            "text/plain": [
              "11"
            ]
          },
          "metadata": {
            "tags": []
          },
          "execution_count": 51
        }
      ]
    },
    {
      "cell_type": "markdown",
      "metadata": {
        "id": "_AZO_9EVUDGt"
      },
      "source": [
        "#### Tuplas\n",
        "\n",
        "São muito semelhantes a listas, porem são imutáveis. São definidas com `()`"
      ]
    },
    {
      "cell_type": "code",
      "metadata": {
        "colab": {
          "base_uri": "https://localhost:8080/"
        },
        "id": "MyFOMUYNUDGu",
        "outputId": "fa654fc6-5dcb-4353-83e5-658552b90f24"
      },
      "source": [
        "# Criando uma tupla\n",
        "minha_tupla = (70, 84, 10, 12)\n",
        "\n",
        "print(minha_tupla)\n",
        "print(minha_tupla[2])\n",
        "print(minha_tupla[1:3])"
      ],
      "execution_count": 52,
      "outputs": [
        {
          "output_type": "stream",
          "text": [
            "(70, 84, 10, 12)\n",
            "10\n",
            "(84, 10)\n"
          ],
          "name": "stdout"
        }
      ]
    },
    {
      "cell_type": "code",
      "metadata": {
        "colab": {
          "base_uri": "https://localhost:8080/",
          "height": 180
        },
        "id": "201fSxYCUDGv",
        "outputId": "fc235450-a647-44c0-a418-ecfa144dba09"
      },
      "source": [
        "# Não podemos alterar valores\n",
        "minha_tupla[0] = 50"
      ],
      "execution_count": 53,
      "outputs": [
        {
          "output_type": "error",
          "ename": "TypeError",
          "evalue": "ignored",
          "traceback": [
            "\u001b[0;31m---------------------------------------------------------------------------\u001b[0m",
            "\u001b[0;31mTypeError\u001b[0m                                 Traceback (most recent call last)",
            "\u001b[0;32m<ipython-input-53-04086d0e4d43>\u001b[0m in \u001b[0;36m<module>\u001b[0;34m()\u001b[0m\n\u001b[1;32m      1\u001b[0m \u001b[0;31m# Não podemos alterar valores\u001b[0m\u001b[0;34m\u001b[0m\u001b[0;34m\u001b[0m\u001b[0;34m\u001b[0m\u001b[0m\n\u001b[0;32m----> 2\u001b[0;31m \u001b[0mminha_tupla\u001b[0m\u001b[0;34m[\u001b[0m\u001b[0;36m0\u001b[0m\u001b[0;34m]\u001b[0m \u001b[0;34m=\u001b[0m \u001b[0;36m50\u001b[0m\u001b[0;34m\u001b[0m\u001b[0;34m\u001b[0m\u001b[0m\n\u001b[0m",
            "\u001b[0;31mTypeError\u001b[0m: 'tuple' object does not support item assignment"
          ]
        }
      ]
    },
    {
      "cell_type": "markdown",
      "metadata": {
        "id": "e9Eo6PwgUDGv"
      },
      "source": [
        "#### Estruturas condicionais\n",
        "As estruturas condicionais do Python tem estrutura similar a outras linguagens de programação. O detalhe mais importante é que a definição dos blocos de código é através da identação, enquanto outras linguens usam simbolos como {}."
      ]
    },
    {
      "cell_type": "code",
      "metadata": {
        "colab": {
          "base_uri": "https://localhost:8080/"
        },
        "id": "x0mE53WbUDGw",
        "outputId": "52cf253c-9bc1-4c71-d086-56806a7441c1"
      },
      "source": [
        "# Definindo uma variavel que vamos usar\n",
        "meu_numero = 42\n",
        "\n",
        "if meu_numero < 50:\n",
        "    print('Menor que 50')\n",
        "else:\n",
        "    print('Maior que 50')"
      ],
      "execution_count": 54,
      "outputs": [
        {
          "output_type": "stream",
          "text": [
            "Menor que 50\n"
          ],
          "name": "stdout"
        }
      ]
    },
    {
      "cell_type": "code",
      "metadata": {
        "colab": {
          "base_uri": "https://localhost:8080/"
        },
        "id": "WWY4w3KFUDGw",
        "outputId": "98e121ee-e95b-4b2b-8c94-7e953b6496c6"
      },
      "source": [
        "meu_numero = idade + 9\n",
        "\n",
        "# Assim como em outras linguagens temos elif\n",
        "if meu_numero < 50:\n",
        "    print('Menor que 50')\n",
        "elif meu_numero > 50:\n",
        "    print('Maior que 50')\n",
        "else:\n",
        "    print('Exatamente 50')"
      ],
      "execution_count": 59,
      "outputs": [
        {
          "output_type": "stream",
          "text": [
            "Exatamente 50\n"
          ],
          "name": "stdout"
        }
      ]
    },
    {
      "cell_type": "markdown",
      "metadata": {
        "id": "wIj0cMxuUDGx"
      },
      "source": [
        "#### Estruturas de repetição\n",
        "Assim com outra linguagens o Python possui as estruturas de repetição `for` e `while`. É importante perceber que o _for_ do Python é um *for each*, conceito presente em outras linguagens de programação. Lembre-se da identação"
      ]
    },
    {
      "cell_type": "code",
      "metadata": {
        "colab": {
          "base_uri": "https://localhost:8080/"
        },
        "id": "4jFj-pGuUDGy",
        "outputId": "5220a149-e30f-42cd-db95-7c5c832559d8"
      },
      "source": [
        "# Definindo uma lista\n",
        "minha_lista = [3, 5, 7, 4, 9]\n",
        "\n",
        "# Vamos fazer um laço que imprima cada elemento da nossa lista\n",
        "for num in minha_lista:\n",
        "    print(num * 8)"
      ],
      "execution_count": 61,
      "outputs": [
        {
          "output_type": "stream",
          "text": [
            "24\n",
            "40\n",
            "56\n",
            "32\n",
            "72\n"
          ],
          "name": "stdout"
        }
      ]
    },
    {
      "cell_type": "code",
      "metadata": {
        "colab": {
          "base_uri": "https://localhost:8080/"
        },
        "id": "nepX5xWHUDGz",
        "outputId": "37b72788-a914-406e-c5d6-7c48903fc7d2"
      },
      "source": [
        "# Vamos fazer algo mais interessante\n",
        "total = 0\n",
        "for lucro in lucro_por_mes:\n",
        "    total += lucro\n",
        "    \n",
        "num_meses = len(lucro_por_mes)\n",
        "media = total/num_meses\n",
        "media"
      ],
      "execution_count": 62,
      "outputs": [
        {
          "output_type": "execute_result",
          "data": {
            "text/plain": [
              "133.75"
            ]
          },
          "metadata": {
            "tags": []
          },
          "execution_count": 62
        }
      ]
    },
    {
      "cell_type": "markdown",
      "metadata": {
        "id": "woUBM7KpUDG1"
      },
      "source": [
        "Em algumas situações queremos um laço que itere por uma variável com valores 0, 1, 2, 3, ... Podemos fazer isso utilizando o método `range()`"
      ]
    },
    {
      "cell_type": "code",
      "metadata": {
        "colab": {
          "base_uri": "https://localhost:8080/"
        },
        "id": "QR8uSUgaUDG2",
        "outputId": "6fa98a3c-25d7-4bfe-ea6b-b407707b10dd"
      },
      "source": [
        "# Perceba que aqui o intervalo da direita também é aberto\n",
        "for i in range(8):\n",
        "    print(\"2 *\",i,\" = \", 2*i)"
      ],
      "execution_count": 65,
      "outputs": [
        {
          "output_type": "stream",
          "text": [
            "2 * 0  =  0\n",
            "2 * 1  =  2\n",
            "2 * 2  =  4\n",
            "2 * 3  =  6\n",
            "2 * 4  =  8\n",
            "2 * 5  =  10\n",
            "2 * 6  =  12\n",
            "2 * 7  =  14\n"
          ],
          "name": "stdout"
        }
      ]
    },
    {
      "cell_type": "code",
      "metadata": {
        "colab": {
          "base_uri": "https://localhost:8080/"
        },
        "id": "RGmCz0puUDG2",
        "outputId": "4fcb735e-e919-42db-cb2b-e03ae5748f0f"
      },
      "source": [
        "# Pode começar de um valor diferente de 0\n",
        "for i in range(2, 9):\n",
        "    print(i, 2*i)"
      ],
      "execution_count": 66,
      "outputs": [
        {
          "output_type": "stream",
          "text": [
            "2 4\n",
            "3 6\n",
            "4 8\n",
            "5 10\n",
            "6 12\n",
            "7 14\n",
            "8 16\n"
          ],
          "name": "stdout"
        }
      ]
    },
    {
      "cell_type": "code",
      "metadata": {
        "colab": {
          "base_uri": "https://localhost:8080/"
        },
        "id": "t5xCKaIFUDG3",
        "outputId": "bcd41d9b-60fb-4361-ccd1-9e4d71543619"
      },
      "source": [
        "# Pode inclusive dar passos diferentes de 1\n",
        "for i in range(2, 9, 2):\n",
        "    print(i, 2*i)"
      ],
      "execution_count": 67,
      "outputs": [
        {
          "output_type": "stream",
          "text": [
            "2 4\n",
            "4 8\n",
            "6 12\n",
            "8 16\n"
          ],
          "name": "stdout"
        }
      ]
    },
    {
      "cell_type": "markdown",
      "metadata": {
        "id": "Pb_YaXgPUDG3"
      },
      "source": [
        "#### Dicionários\n",
        "Dicionário é uma estrutura de dados utilizada para armazenar informações do tipo chave-valor. Ele é definido com `{}` e seus elementos são acessados com `[]`"
      ]
    },
    {
      "cell_type": "code",
      "metadata": {
        "colab": {
          "base_uri": "https://localhost:8080/"
        },
        "id": "ZD9UDja5UDG3",
        "outputId": "ca263abc-e566-4d02-c3ef-fd1cad36f546"
      },
      "source": [
        "# Definindo um dicionário vazio\n",
        "idades = {}\n",
        "\n",
        "# Acrescentando dados\n",
        "idades['Maria'] = 23\n",
        "idades['João'] = 34\n",
        "idades['Jose'] = 28\n",
        "\n",
        "# Acessando um elemento através da chave e imprimindo o valor armazenado\n",
        "print(idades['Maria'])\n",
        "\n",
        "idades"
      ],
      "execution_count": 70,
      "outputs": [
        {
          "output_type": "stream",
          "text": [
            "23\n"
          ],
          "name": "stdout"
        },
        {
          "output_type": "execute_result",
          "data": {
            "text/plain": [
              "{'Jose': 28, 'João': 34, 'Maria': 23}"
            ]
          },
          "metadata": {
            "tags": []
          },
          "execution_count": 70
        }
      ]
    },
    {
      "cell_type": "code",
      "metadata": {
        "colab": {
          "base_uri": "https://localhost:8080/"
        },
        "id": "Ghm_tX0sUDG4",
        "outputId": "c1c612be-a69b-481e-dadf-1b7d1eed31a3"
      },
      "source": [
        "# Também podemos criar um dicionário já adicionando valores\n",
        "idades = {\n",
        "    'Maria': 23,\n",
        "    'João': 34,\n",
        "    'José': 28,\n",
        "}\n",
        "\n",
        "idades['João']"
      ],
      "execution_count": 69,
      "outputs": [
        {
          "output_type": "execute_result",
          "data": {
            "text/plain": [
              "34"
            ]
          },
          "metadata": {
            "tags": []
          },
          "execution_count": 69
        }
      ]
    },
    {
      "cell_type": "markdown",
      "metadata": {
        "id": "9FvlNj_hUDG4"
      },
      "source": [
        "Algumas funções uteis para manipular dicionarios"
      ]
    },
    {
      "cell_type": "code",
      "metadata": {
        "colab": {
          "base_uri": "https://localhost:8080/"
        },
        "id": "wDc62k6hUDG4",
        "outputId": "cea07187-9b53-4ed8-8823-a916c611be81"
      },
      "source": [
        "# Assim como listas len() retorna o tamanho\n",
        "print(len(idades))"
      ],
      "execution_count": 71,
      "outputs": [
        {
          "output_type": "stream",
          "text": [
            "3\n"
          ],
          "name": "stdout"
        }
      ]
    },
    {
      "cell_type": "code",
      "metadata": {
        "scrolled": true,
        "colab": {
          "base_uri": "https://localhost:8080/"
        },
        "id": "SqwcO-liUDG5",
        "outputId": "d5c9e0fc-d47b-43d2-ac59-9e4ad9bfe288"
      },
      "source": [
        "# Podemos conferir se um valor com uma certa chave já existe no dicionário\n",
        "print('Maria' in idades)\n",
        "print('Joana' in idades)"
      ],
      "execution_count": 73,
      "outputs": [
        {
          "output_type": "stream",
          "text": [
            "True\n",
            "False\n"
          ],
          "name": "stdout"
        }
      ]
    },
    {
      "cell_type": "markdown",
      "metadata": {
        "id": "SBddIzDcUDG5"
      },
      "source": [
        "#### Funções\n",
        "Assim como em outras linguagens podemos definir funções em Python, isso é feito através da palavra-chave `def`"
      ]
    },
    {
      "cell_type": "code",
      "metadata": {
        "id": "QHYNNwxIUDG5"
      },
      "source": [
        "# Definindo uma função simples\n",
        "def imprime_dobro(num):\n",
        "    print(num * 2)"
      ],
      "execution_count": 74,
      "outputs": []
    },
    {
      "cell_type": "code",
      "metadata": {
        "colab": {
          "base_uri": "https://localhost:8080/"
        },
        "id": "vCfV7x22UDG5",
        "outputId": "98302484-bf2a-477f-ec9a-934c24a0be52"
      },
      "source": [
        "imprime_dobro(4)\n",
        "imprime_dobro(5)"
      ],
      "execution_count": 75,
      "outputs": [
        {
          "output_type": "stream",
          "text": [
            "8\n",
            "10\n"
          ],
          "name": "stdout"
        }
      ]
    },
    {
      "cell_type": "code",
      "metadata": {
        "id": "rawWwUpBUDG6"
      },
      "source": [
        "# Vamos definir uma função um pouco mais complexa\n",
        "def soma_lista(lista):\n",
        "    total = 0\n",
        "    for num in lista:\n",
        "        total += num\n",
        "    return total"
      ],
      "execution_count": 76,
      "outputs": []
    },
    {
      "cell_type": "code",
      "metadata": {
        "scrolled": true,
        "colab": {
          "base_uri": "https://localhost:8080/"
        },
        "id": "5d9dG3bSUDG6",
        "outputId": "8c0c50e6-3522-40b9-d9b2-0f47ed4c8c1b"
      },
      "source": [
        "soma_lista([2, 4, 5])"
      ],
      "execution_count": 77,
      "outputs": [
        {
          "output_type": "execute_result",
          "data": {
            "text/plain": [
              "11"
            ]
          },
          "metadata": {
            "tags": []
          },
          "execution_count": 77
        }
      ]
    },
    {
      "cell_type": "code",
      "metadata": {
        "id": "6lrygfl3UDG7"
      },
      "source": [
        "# Funções podem retornar mais de um valor\n",
        "def soma_e_multiplica(a, b):\n",
        "    soma = a + b\n",
        "    multi = a * b\n",
        "    \n",
        "    return soma, multi"
      ],
      "execution_count": 78,
      "outputs": []
    },
    {
      "cell_type": "code",
      "metadata": {
        "colab": {
          "base_uri": "https://localhost:8080/"
        },
        "id": "pWfM5bY_UDG8",
        "outputId": "f49ac398-749e-4ddd-bf24-a154f6c5b867"
      },
      "source": [
        "s, m = soma_e_multiplica(3, 2)\n",
        "print(s, m)"
      ],
      "execution_count": 79,
      "outputs": [
        {
          "output_type": "stream",
          "text": [
            "5 6\n"
          ],
          "name": "stdout"
        }
      ]
    },
    {
      "cell_type": "markdown",
      "metadata": {
        "id": "7tsg5H50UDG8"
      },
      "source": [
        "#### Bibliotecas\n",
        "Bibliotecas são conjuntos de classes e funções que já estam prontas. Existem bibliotecas nativas do Python e bibliotecas de terceiros, com as mais diversas utilidades"
      ]
    },
    {
      "cell_type": "code",
      "metadata": {
        "colab": {
          "base_uri": "https://localhost:8080/"
        },
        "id": "VqEBSn5qUDG9",
        "outputId": "984f5544-ae70-4de6-dbe1-6ac071689afd"
      },
      "source": [
        "# Funções relacionadas a números aleatórios\n",
        "import random\n",
        "\n",
        "# Numero aleatorio no intervalo [10, 20]\n",
        "print(random.randint(10, 20))"
      ],
      "execution_count": 81,
      "outputs": [
        {
          "output_type": "stream",
          "text": [
            "10\n"
          ],
          "name": "stdout"
        }
      ]
    },
    {
      "cell_type": "code",
      "metadata": {
        "colab": {
          "base_uri": "https://localhost:8080/"
        },
        "id": "u4rMIpwtUDG-",
        "outputId": "3263d153-d6cf-476c-ed1a-9f4a9b4e2ee3"
      },
      "source": [
        "# Podemos importar apenas as funções que queremos\n",
        "from random import randint\n",
        "\n",
        "print(randint(10, 20))"
      ],
      "execution_count": 82,
      "outputs": [
        {
          "output_type": "stream",
          "text": [
            "19\n"
          ],
          "name": "stdout"
        }
      ]
    },
    {
      "cell_type": "markdown",
      "metadata": {
        "id": "9A9WlKnnUDG-"
      },
      "source": [
        "<hr>"
      ]
    },
    {
      "cell_type": "markdown",
      "metadata": {
        "id": "ssa6XIChUDG_"
      },
      "source": [
        "O conteúdo básico de Python é esse, recomendamos fortemente que você busque outras fontes de estudo de Python para ter maior facilidade em taferas de ciência de dados. O que foi coberto aqui é bem introdutório, então no decorrer das aulas iremos introduzir alguns conceitos novos conforme surgir a necessidade."
      ]
    }
  ]
}