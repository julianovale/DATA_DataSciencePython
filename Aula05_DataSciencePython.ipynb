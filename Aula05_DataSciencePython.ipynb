{
  "nbformat": 4,
  "nbformat_minor": 0,
  "metadata": {
    "kernelspec": {
      "display_name": "Python 3",
      "language": "python",
      "name": "python3"
    },
    "language_info": {
      "codemirror_mode": {
        "name": "ipython",
        "version": 3
      },
      "file_extension": ".py",
      "mimetype": "text/x-python",
      "name": "python",
      "nbconvert_exporter": "python",
      "pygments_lexer": "ipython3",
      "version": "3.8.3"
    },
    "colab": {
      "name": "Aula05_DataSciencePython.ipynb",
      "provenance": [],
      "collapsed_sections": [
        "evaBl_q90vde",
        "yYhh7wp70vd1",
        "bqaRHc3F0vd1",
        "0HVdSqK90vd7",
        "ilXNVPbH0vd8",
        "R1Xf92tU0vd9",
        "OUHv-RWV0veB",
        "-98-sKho0veE"
      ],
      "include_colab_link": true
    }
  },
  "cells": [
    {
      "cell_type": "markdown",
      "metadata": {
        "id": "view-in-github",
        "colab_type": "text"
      },
      "source": [
        "<a href=\"https://colab.research.google.com/github/julianovale/DATA_DataSciencePython/blob/main/Aula05_DataSciencePython.ipynb\" target=\"_parent\"><img src=\"https://colab.research.google.com/assets/colab-badge.svg\" alt=\"Open In Colab\"/></a>"
      ]
    },
    {
      "cell_type": "markdown",
      "metadata": {
        "id": "jAIcFwIL0vdL"
      },
      "source": [
        "# Introdução à Data Science com Python - Data ICMC-USP\n",
        "\n",
        "Esse material foi desenvolvido pelo Data, grupo de extensão de aprendizado e ciência de dados compostos por alunos do Instituto de Ciências Matemáticas e de Computação da USP.\n",
        "\n",
        "Esse notebook é acompanhado de um curso em video, que pode ser encontrado em [aqui](https://www.youtube.com/playlist?list=PLFE-LjWAAP9SfEuLXf3qrpw4szKWjlYq9)\n",
        "\n",
        "Para saber mais sobre as atividades do Data entre no nosso site e nos siga e nossas redes sociais:\n",
        "- [Site](http://data.icmc.usp.br/)\n",
        "- [Twitter](https://twitter.com/data_icmc)\n",
        "- [LinkedIn](https://www.linkedin.com/school/data-icmc/)\n",
        "- [Facebook](https://www.facebook.com/dataICMC/)\n",
        "\n",
        "Aproveite o material!\n",
        "\n",
        "\n",
        "## NumPy\n",
        "\n",
        "NumPy é uma biblioteca para manipulação de vetores e matrizes, possuindo várias funções para lidar com esses dados. A biblioteca é muito eficiente e é usada como base para diversar outras bibliotecas de ciência de dados em Python. Iremos ver o material básico importante de NumPy, mas é muito recomendado conferir a documentação oficial em https://numpy.org/doc/, lá é possível encontrar exemplos de uso para todas as funcionalidades da biblioteca. "
      ]
    },
    {
      "cell_type": "code",
      "metadata": {
        "id": "1IIpD9bU0vdV"
      },
      "source": [
        "# É comum importar o numpy o chamando só de np \n",
        "import numpy as np"
      ],
      "execution_count": 1,
      "outputs": []
    },
    {
      "cell_type": "markdown",
      "metadata": {
        "id": "prD7VCWJ0vdW"
      },
      "source": [
        "### Arrays\n",
        "\n",
        "Arrays são a generalização de vetores e matrizes com qualquer número de dimensões. O `np.array` é o elemento central do NumPy, e é com eles que precisamos saber trabalhar.\n",
        "\n",
        "Como foi dito, um array numpy pode ter qualquer número de dimenções, vamos observar os exemplos na imagem a baixo:\n",
        "\n",
        "<img src=\"https://www.oreilly.com/library/view/elegant-scipy/9781491922927/assets/elsp_0105.png\">\n",
        "\n",
        "([fonte da imagem](https://www.oreilly.com/library/view/elegant-scipy/9781491922927/ch01.html))"
      ]
    },
    {
      "cell_type": "markdown",
      "metadata": {
        "id": "hEFT_vtT0vdX"
      },
      "source": [
        "Certo, então é possível ver que os arrays tem uma dimensão e uma tamanho em cada uma dessas dimenções. Cada dimensão é identificada por um eixo (*axis*) como podemos ver na imagem.\n",
        "\n",
        "Vamos trabalhar com um exemplo simples:"
      ]
    },
    {
      "cell_type": "code",
      "metadata": {
        "colab": {
          "base_uri": "https://localhost:8080/"
        },
        "id": "MLbmcGP90vdX",
        "outputId": "6128035e-dc6c-45b2-d26d-33457ee26b0f"
      },
      "source": [
        "# Vamos criar nosso primeiro array\n",
        "a = np.array([2, 3, 5, 7, 11])\n",
        "a"
      ],
      "execution_count": 2,
      "outputs": [
        {
          "output_type": "execute_result",
          "data": {
            "text/plain": [
              "array([ 2,  3,  5,  7, 11])"
            ]
          },
          "metadata": {
            "tags": []
          },
          "execution_count": 2
        }
      ]
    },
    {
      "cell_type": "code",
      "metadata": {
        "colab": {
          "base_uri": "https://localhost:8080/"
        },
        "id": "JyBWnz6y0vdY",
        "outputId": "b0b762c7-7714-4938-a5ad-2bb2b0ffbafc"
      },
      "source": [
        "# O atributo ndim do array guarda seu número de dimenções\n",
        "a.ndim"
      ],
      "execution_count": 3,
      "outputs": [
        {
          "output_type": "execute_result",
          "data": {
            "text/plain": [
              "1"
            ]
          },
          "metadata": {
            "tags": []
          },
          "execution_count": 3
        }
      ]
    },
    {
      "cell_type": "code",
      "metadata": {
        "colab": {
          "base_uri": "https://localhost:8080/"
        },
        "id": "UHPdCj0u0vdY",
        "outputId": "78640da3-8c0a-4d27-dcfc-9226601f1bff"
      },
      "source": [
        "# O shape (formato) do array é um atributo ainda mais importante\n",
        "a.shape"
      ],
      "execution_count": 4,
      "outputs": [
        {
          "output_type": "execute_result",
          "data": {
            "text/plain": [
              "(5,)"
            ]
          },
          "metadata": {
            "tags": []
          },
          "execution_count": 4
        }
      ]
    },
    {
      "cell_type": "code",
      "metadata": {
        "colab": {
          "base_uri": "https://localhost:8080/"
        },
        "id": "_fvXUZ8a0vdZ",
        "outputId": "306c7adc-3d71-4864-9e5e-f7425bed1678"
      },
      "source": [
        "# Podemos acessar um entrada do array como fizemos com listas\n",
        "a[2]"
      ],
      "execution_count": 6,
      "outputs": [
        {
          "output_type": "execute_result",
          "data": {
            "text/plain": [
              "5"
            ]
          },
          "metadata": {
            "tags": []
          },
          "execution_count": 6
        }
      ]
    },
    {
      "cell_type": "code",
      "metadata": {
        "colab": {
          "base_uri": "https://localhost:8080/"
        },
        "id": "0XZT0gGx0vdZ",
        "outputId": "41cbe042-4260-4377-b5c3-1ab9ec3e5fd8"
      },
      "source": [
        "# Podemos também alterar uma entrada do array\n",
        "a[3] = 42\n",
        "a"
      ],
      "execution_count": 5,
      "outputs": [
        {
          "output_type": "execute_result",
          "data": {
            "text/plain": [
              "array([ 2,  3,  5, 42, 11])"
            ]
          },
          "metadata": {
            "tags": []
          },
          "execution_count": 5
        }
      ]
    },
    {
      "cell_type": "markdown",
      "metadata": {
        "id": "x3vFddGa0vdZ"
      },
      "source": [
        "Tudo que fizemos aqui funciona para qualquer número de dimensões, vamos ver:"
      ]
    },
    {
      "cell_type": "code",
      "metadata": {
        "colab": {
          "base_uri": "https://localhost:8080/"
        },
        "id": "mAaTtdh80vda",
        "outputId": "cbd075f5-07ef-4e61-edb1-1a329ddff2b0"
      },
      "source": [
        "# Criando uma matriz\n",
        "b = np.array([[10, 20], \n",
        "              [30, 40], \n",
        "              [50, 60]])\n",
        "b"
      ],
      "execution_count": 7,
      "outputs": [
        {
          "output_type": "execute_result",
          "data": {
            "text/plain": [
              "array([[10, 20],\n",
              "       [30, 40],\n",
              "       [50, 60]])"
            ]
          },
          "metadata": {
            "tags": []
          },
          "execution_count": 7
        }
      ]
    },
    {
      "cell_type": "code",
      "metadata": {
        "colab": {
          "base_uri": "https://localhost:8080/"
        },
        "id": "tXebUIVd0vda",
        "outputId": "36bd2ffa-256a-4d4b-f59b-d26e05877b2c"
      },
      "source": [
        "# Visualizando número de dimensões e shape\n",
        "print(b.ndim)\n",
        "print(b.shape)"
      ],
      "execution_count": 8,
      "outputs": [
        {
          "output_type": "stream",
          "text": [
            "2\n",
            "(3, 2)\n"
          ],
          "name": "stdout"
        }
      ]
    },
    {
      "cell_type": "code",
      "metadata": {
        "colab": {
          "base_uri": "https://localhost:8080/"
        },
        "id": "Cgem9Avs0vdb",
        "outputId": "0d557c91-feb8-4bb9-ddae-0fa3e9a4946a"
      },
      "source": [
        "# Agora precisamos informar a posição em cada eixo para acessar elementos\n",
        "b[2, 1]"
      ],
      "execution_count": 9,
      "outputs": [
        {
          "output_type": "execute_result",
          "data": {
            "text/plain": [
              "60"
            ]
          },
          "metadata": {
            "tags": []
          },
          "execution_count": 9
        }
      ]
    },
    {
      "cell_type": "code",
      "metadata": {
        "colab": {
          "base_uri": "https://localhost:8080/"
        },
        "id": "-xAd4rig0vdb",
        "outputId": "b342d698-e898-4a54-d553-d9fe84305f71"
      },
      "source": [
        "# Também podemos mudar entradas\n",
        "b[1, 0] = 23\n",
        "b"
      ],
      "execution_count": 10,
      "outputs": [
        {
          "output_type": "execute_result",
          "data": {
            "text/plain": [
              "array([[10, 20],\n",
              "       [23, 40],\n",
              "       [50, 60]])"
            ]
          },
          "metadata": {
            "tags": []
          },
          "execution_count": 10
        }
      ]
    },
    {
      "cell_type": "markdown",
      "metadata": {
        "id": "ygw5gIx50vdb"
      },
      "source": [
        "**Pergunta:** Qual o shape de uma imagem em tons de cinza de tamanho 200x200? E de uma imagem RGB do mesmo tamanho?\n",
        "\n",
        "https://github.com/julianovale/DATA_DataSciencePython/blob/main/img/img_array.png?raw=true"
      ]
    },
    {
      "cell_type": "markdown",
      "metadata": {
        "id": "OUcJ5kIp5vU-"
      },
      "source": [
        "Tons de cinza: (200, 200) => 2D\r\n",
        "\r\n",
        "Colorida: (200, 200, 3) => 3D"
      ]
    },
    {
      "cell_type": "markdown",
      "metadata": {
        "id": "CNCO8IMq0vdb"
      },
      "source": [
        "### Gerando arrays\n",
        "Até aqui criamos todos nossos arrays definindo valores na mão utilizando listas em Python. Porém o NumPy possui funções convenientes para criar novos arrays"
      ]
    },
    {
      "cell_type": "code",
      "metadata": {
        "colab": {
          "base_uri": "https://localhost:8080/"
        },
        "id": "izeGkMDI0vdc",
        "outputId": "0ac2312d-e5a7-4322-de15-4519671aba8a"
      },
      "source": [
        "# Cria um array só com zeros com shape (2,2)\n",
        "a = np.zeros((2,2))\n",
        "a"
      ],
      "execution_count": 14,
      "outputs": [
        {
          "output_type": "execute_result",
          "data": {
            "text/plain": [
              "array([[0., 0.],\n",
              "       [0., 0.]])"
            ]
          },
          "metadata": {
            "tags": []
          },
          "execution_count": 14
        }
      ]
    },
    {
      "cell_type": "code",
      "metadata": {
        "colab": {
          "base_uri": "https://localhost:8080/"
        },
        "id": "DcZ0A7Eo0vdc",
        "outputId": "5cae23af-4549-4410-dca4-3706c1ba3ab6"
      },
      "source": [
        "# Cria um array só com uns com shape (2,2)\n",
        "a = np.ones((2,2))\n",
        "a"
      ],
      "execution_count": 15,
      "outputs": [
        {
          "output_type": "execute_result",
          "data": {
            "text/plain": [
              "array([[1., 1.],\n",
              "       [1., 1.]])"
            ]
          },
          "metadata": {
            "tags": []
          },
          "execution_count": 15
        }
      ]
    },
    {
      "cell_type": "code",
      "metadata": {
        "colab": {
          "base_uri": "https://localhost:8080/"
        },
        "id": "yx-U2k6L0vdc",
        "outputId": "534ef8a9-ca57-4c6a-cb89-71df44cf3a14"
      },
      "source": [
        "# Cria um array de shape (3,2) com valores aleatórios\n",
        "a = np.random.random((3,2))\n",
        "a"
      ],
      "execution_count": 19,
      "outputs": [
        {
          "output_type": "execute_result",
          "data": {
            "text/plain": [
              "array([[0.1847498 , 0.39026557],\n",
              "       [0.02059814, 0.14043459],\n",
              "       [0.68844631, 0.14386285]])"
            ]
          },
          "metadata": {
            "tags": []
          },
          "execution_count": 19
        }
      ]
    },
    {
      "cell_type": "code",
      "metadata": {
        "colab": {
          "base_uri": "https://localhost:8080/"
        },
        "id": "uUCNi-C20vdd",
        "outputId": "257bc70d-ef7c-450b-c178-4ab2f4ba09ca"
      },
      "source": [
        "# Cria um array com valores aleatorios inteiros (20 é o valor maxímo)\n",
        "a = np.random.randint(20, size=(3,2))\n",
        "a"
      ],
      "execution_count": 27,
      "outputs": [
        {
          "output_type": "execute_result",
          "data": {
            "text/plain": [
              "array([[10,  1],\n",
              "       [13, 17],\n",
              "       [11,  9]])"
            ]
          },
          "metadata": {
            "tags": []
          },
          "execution_count": 27
        }
      ]
    },
    {
      "cell_type": "code",
      "metadata": {
        "colab": {
          "base_uri": "https://localhost:8080/"
        },
        "id": "HPIHEGLE0vdd",
        "outputId": "980f2b01-5258-4cba-85bd-336747f1bd8a"
      },
      "source": [
        "# Cria um vetor de 0 a 4\n",
        "a = np.arange(5)\n",
        "a"
      ],
      "execution_count": 28,
      "outputs": [
        {
          "output_type": "execute_result",
          "data": {
            "text/plain": [
              "array([0, 1, 2, 3, 4])"
            ]
          },
          "metadata": {
            "tags": []
          },
          "execution_count": 28
        }
      ]
    },
    {
      "cell_type": "markdown",
      "metadata": {
        "id": "PUw51x_y0vdd"
      },
      "source": [
        "Não temos tempo de ver todas as funções desse tipo que existem, tente dar uma olhada em `np.zeros_like`, `np.full`, `np.linspace`, entre outras."
      ]
    },
    {
      "cell_type": "markdown",
      "metadata": {
        "id": "evaBl_q90vde"
      },
      "source": [
        "### Operações matemáticas\n",
        "\n",
        "Até agora pode não ter ficado muito claro o motivo de estarmos usando arrays do NumPy ao invés de usar simplesmente listas nativas do Python. A vantagem está justamente nas várias operações suportadas por arrays. Vamos ver alguns exemplos"
      ]
    },
    {
      "cell_type": "code",
      "metadata": {
        "id": "gfyElfTv0vde"
      },
      "source": [
        "# Vamos criar um vetor aleatorio que iremos utilizar\n",
        "a = np.random.randint(10, size=(5,))\n",
        "a"
      ],
      "execution_count": null,
      "outputs": []
    },
    {
      "cell_type": "code",
      "metadata": {
        "id": "ze2d5FWa0vdg"
      },
      "source": [
        "# Podemos realizar varias operaçoes\n",
        "\n",
        "print(a + 10) # Soma\n",
        "\n",
        "print(a - 4) # Subtração\n",
        "\n",
        "print(a * 3) # Multiplicação\n",
        "\n",
        "print(a / 2) # Divisão\n",
        "\n",
        "print(a ** 2) # Exponenciação\n",
        "\n",
        "print(a < 5) # Comparação"
      ],
      "execution_count": null,
      "outputs": []
    },
    {
      "cell_type": "markdown",
      "metadata": {
        "id": "5OLWM9XD0vdg"
      },
      "source": [
        "Também podemos realizar operações entre arrays"
      ]
    },
    {
      "cell_type": "code",
      "metadata": {
        "id": "yBQE04CE0vdh"
      },
      "source": [
        "# Vamos criar dois vetores aleatorios que iremos utilizar\n",
        "a = np.random.randint(10, size=(5,))\n",
        "b = np.random.randint(10, size=(5,))\n",
        "\n",
        "print(a)\n",
        "print(b)"
      ],
      "execution_count": null,
      "outputs": []
    },
    {
      "cell_type": "code",
      "metadata": {
        "id": "DRjx-anF0vdi"
      },
      "source": [
        "# Podemos realizar soma (ou subtração) elemento a elemento\n",
        "print(a + b)"
      ],
      "execution_count": null,
      "outputs": []
    },
    {
      "cell_type": "code",
      "metadata": {
        "id": "QC3MGMxB0vdj"
      },
      "source": [
        "# Também podemos realizar multiplicação (ou divisão) elemento a elemento\n",
        "print(a * b)"
      ],
      "execution_count": null,
      "outputs": []
    },
    {
      "cell_type": "code",
      "metadata": {
        "id": "TyI0Rlr60vdm"
      },
      "source": [
        "# Para isso é muito importante que os shapes sejam iguais\n",
        "c = np.random.randint(10, size=(7,))\n",
        "print(a + c)"
      ],
      "execution_count": null,
      "outputs": []
    },
    {
      "cell_type": "code",
      "metadata": {
        "id": "epQ_LMNO0vdn"
      },
      "source": [
        "# Também temos operações como o produto escalar entre os vetores\n",
        "np.dot(a, b)"
      ],
      "execution_count": null,
      "outputs": []
    },
    {
      "cell_type": "markdown",
      "metadata": {
        "id": "XKBDq-OK0vdn"
      },
      "source": [
        "Lembre-se que tudo isso também vale para matrizes"
      ]
    },
    {
      "cell_type": "code",
      "metadata": {
        "id": "qHwBM41l0vdo"
      },
      "source": [
        "# Vamos criar duas matrizes aleatorias que iremos utilizar\n",
        "a = np.random.randint(10, size=(3,4))\n",
        "b = np.random.randint(10, size=(3,4))\n",
        "\n",
        "print(a)\n",
        "print('-----')\n",
        "print(b)"
      ],
      "execution_count": null,
      "outputs": []
    },
    {
      "cell_type": "code",
      "metadata": {
        "id": "JZm-iwcb0vdp"
      },
      "source": [
        "# Operações com escalares\n",
        "print(a + 100)\n",
        "print('-----')\n",
        "print(a * 3)"
      ],
      "execution_count": null,
      "outputs": []
    },
    {
      "cell_type": "code",
      "metadata": {
        "id": "NGrdTf250vdp"
      },
      "source": [
        "# Somando matrizes elemento a elemento\n",
        "print(a + b)"
      ],
      "execution_count": null,
      "outputs": []
    },
    {
      "cell_type": "code",
      "metadata": {
        "id": "4HLUDKg70vdq"
      },
      "source": [
        "# Podemos transpor uma matriz\n",
        "print(b.T)"
      ],
      "execution_count": null,
      "outputs": []
    },
    {
      "cell_type": "code",
      "metadata": {
        "id": "EplZFRLJ0vdr"
      },
      "source": [
        "# Podemos multiplicar matrizes\n",
        "# (com np.dot, np.multiply é multiplicação elemento a elemento)\n",
        "c = np.random.randint(10, size=(4, 2))\n",
        "print('Shapes:', a.shape, c.shape)\n",
        "print(np.dot(a, c))"
      ],
      "execution_count": null,
      "outputs": []
    },
    {
      "cell_type": "markdown",
      "metadata": {
        "id": "pviapAJn0vdy"
      },
      "source": [
        "Podemos fazer operações entre vetores e matrizes. De forma geral isso é chamado de *broadcasting*, mas vamos nos limitar a um caso simples"
      ]
    },
    {
      "cell_type": "code",
      "metadata": {
        "id": "n4Hr8oyx0vdz"
      },
      "source": [
        "# Criando nosso vetor e nossa matriz\n",
        "a = np.random.randint(10, size=(4,))\n",
        "b = np.random.randint(20, size=(3,4))\n",
        "\n",
        "print(a)\n",
        "print() # Imprime linha em branco entre eles\n",
        "print(b)"
      ],
      "execution_count": null,
      "outputs": []
    },
    {
      "cell_type": "code",
      "metadata": {
        "id": "_1RJ5H_60vd0"
      },
      "source": [
        "# Isso tem o efeito de subtrair cada linha da matriz pelo vetor\n",
        "b - a"
      ],
      "execution_count": null,
      "outputs": []
    },
    {
      "cell_type": "markdown",
      "metadata": {
        "id": "yYhh7wp70vd1"
      },
      "source": [
        "### Funções importantes"
      ]
    },
    {
      "cell_type": "markdown",
      "metadata": {
        "id": "bqaRHc3F0vd1"
      },
      "source": [
        "#### Funções de agregação"
      ]
    },
    {
      "cell_type": "code",
      "metadata": {
        "id": "C0t2MOsY0vd2"
      },
      "source": [
        "# Vamos criar um vetor que iremos utilizar\n",
        "a = np.random.randint(20, size=(5,))\n",
        "print(a)"
      ],
      "execution_count": null,
      "outputs": []
    },
    {
      "cell_type": "code",
      "metadata": {
        "id": "ZyKaqDbG0vd2"
      },
      "source": [
        "# Soma\n",
        "np.sum(a) # ou a.sum()"
      ],
      "execution_count": null,
      "outputs": []
    },
    {
      "cell_type": "code",
      "metadata": {
        "id": "t-KgzxZW0vd3"
      },
      "source": [
        "# Média\n",
        "np.mean(a) # ou a.mean()"
      ],
      "execution_count": null,
      "outputs": []
    },
    {
      "cell_type": "markdown",
      "metadata": {
        "id": "GnfQJsT50vd4"
      },
      "source": [
        "Temos várias outras como `np.median`, `np.std`, `np.max`, `np.min`,...\n",
        "\n",
        "Isso também funciona com matrizes normalmente, mas também temos a opção de agregar por eixo"
      ]
    },
    {
      "cell_type": "code",
      "metadata": {
        "id": "O3K16gPF0vd5"
      },
      "source": [
        "# Vamos criar uma matriz que iremos utilizar\n",
        "a = np.random.randint(10, size=(3, 4))\n",
        "print(a)"
      ],
      "execution_count": null,
      "outputs": []
    },
    {
      "cell_type": "code",
      "metadata": {
        "id": "0SpLenOg0vd5"
      },
      "source": [
        "# Podemos somar toda a matriz\n",
        "np.sum(a)"
      ],
      "execution_count": null,
      "outputs": []
    },
    {
      "cell_type": "code",
      "metadata": {
        "id": "IIhKp1u40vd6"
      },
      "source": [
        "# Podemos somar as linhas\n",
        "np.sum(a, axis=1)"
      ],
      "execution_count": null,
      "outputs": []
    },
    {
      "cell_type": "code",
      "metadata": {
        "scrolled": true,
        "id": "N2xC6dT40vd6"
      },
      "source": [
        "# Podemos somar as colunas\n",
        "np.sum(a, axis=0)"
      ],
      "execution_count": null,
      "outputs": []
    },
    {
      "cell_type": "markdown",
      "metadata": {
        "id": "0HVdSqK90vd7"
      },
      "source": [
        "#### Reshape\n",
        "Essa é uma função que nos permite alterar a shape de arrays"
      ]
    },
    {
      "cell_type": "code",
      "metadata": {
        "id": "hQIGuuTz0vd7"
      },
      "source": [
        "# Vamos criar um vetor que iremos utilizar\n",
        "a = np.random.randint(20, size=(18,))\n",
        "print(a)"
      ],
      "execution_count": null,
      "outputs": []
    },
    {
      "cell_type": "code",
      "metadata": {
        "id": "VZEQj_Cr0vd7"
      },
      "source": [
        "# Tranformar em matriz 9 por 2\n",
        "b = a.reshape(9, 2)\n",
        "b"
      ],
      "execution_count": null,
      "outputs": []
    },
    {
      "cell_type": "code",
      "metadata": {
        "id": "lF7E12va0vd8"
      },
      "source": [
        "# Tranformar em matriz 3 por 6\n",
        "c = a.reshape(3, 6)\n",
        "c"
      ],
      "execution_count": null,
      "outputs": []
    },
    {
      "cell_type": "code",
      "metadata": {
        "scrolled": true,
        "id": "WELxrO6R0vd8"
      },
      "source": [
        "# Tranformar em tensor 3D 3 por 2 por 3\n",
        "d = a.reshape(3, 2, 3)\n",
        "d"
      ],
      "execution_count": null,
      "outputs": []
    },
    {
      "cell_type": "markdown",
      "metadata": {
        "id": "ilXNVPbH0vd8"
      },
      "source": [
        "### Indexação"
      ]
    },
    {
      "cell_type": "markdown",
      "metadata": {
        "id": "R1Xf92tU0vd9"
      },
      "source": [
        "#### Arrays 1D"
      ]
    },
    {
      "cell_type": "code",
      "metadata": {
        "id": "SwNOp1980vd9"
      },
      "source": [
        "# Vamos criar um vetor que iremos utilizar\n",
        "a = np.random.randint(20, size=(10,))\n",
        "print(a)"
      ],
      "execution_count": null,
      "outputs": []
    },
    {
      "cell_type": "code",
      "metadata": {
        "id": "pEcJQBKI0vd9"
      },
      "source": [
        "# Como já vimos podemos indexar exatamente como no Python puro\n",
        "print(a[4])\n",
        "print(a[5:8])"
      ],
      "execution_count": null,
      "outputs": []
    },
    {
      "cell_type": "code",
      "metadata": {
        "id": "sKKqR8S90vd-"
      },
      "source": [
        "# Podemos indexar usando um lista dos valores que queremos\n",
        "print(a[[0, 2, 3]])"
      ],
      "execution_count": null,
      "outputs": []
    },
    {
      "cell_type": "code",
      "metadata": {
        "scrolled": true,
        "id": "EzLxQ7q60vd-"
      },
      "source": [
        "# Podemos também indexar usando valores booleanos\n",
        "print(a[[False, True, False, False, False, True, True, False, True, True]])"
      ],
      "execution_count": null,
      "outputs": []
    },
    {
      "cell_type": "code",
      "metadata": {
        "id": "RrujK0yV0veA"
      },
      "source": [
        "# A indexação com booleanos é muito util combinado com comparação\n",
        "maior_que_10 = a > 10\n",
        "print(maior_que_10)\n",
        "b = a[maior_que_10]\n",
        "print(b)"
      ],
      "execution_count": null,
      "outputs": []
    },
    {
      "cell_type": "markdown",
      "metadata": {
        "id": "OUHv-RWV0veB"
      },
      "source": [
        "#### Arrays 2D"
      ]
    },
    {
      "cell_type": "code",
      "metadata": {
        "id": "L1y-460E0veB"
      },
      "source": [
        "a = np.random.randint(50, size=(4,6))\n",
        "print(a)"
      ],
      "execution_count": null,
      "outputs": []
    },
    {
      "cell_type": "code",
      "metadata": {
        "id": "T8roPdCH0veC"
      },
      "source": [
        "# Podemos acessar elementos unicos informando a posição em cada eixo\n",
        "print(a[2, 4])"
      ],
      "execution_count": null,
      "outputs": []
    },
    {
      "cell_type": "code",
      "metadata": {
        "scrolled": false,
        "id": "IjXwYFJH0veC"
      },
      "source": [
        "# Podemos fatiar um pedaço da matriz fatiando em cada eixo\n",
        "print(a[1:3, 2: 5])"
      ],
      "execution_count": null,
      "outputs": []
    },
    {
      "cell_type": "code",
      "metadata": {
        "scrolled": false,
        "id": "LpHddFQQ0veC"
      },
      "source": [
        "# Utilizar : sozinho significa que queros todos os valores do eixo em questão\n",
        "print(a[:, 2]) # Todas linhas da coluna 2\n",
        "print(a[1, :]) # Todas as colunas da linha 1\n",
        "print(a[1, 2:4]) # Colunas 2 e 3 da linha 1 "
      ],
      "execution_count": null,
      "outputs": []
    },
    {
      "cell_type": "code",
      "metadata": {
        "id": "qrh2FD9_0veD"
      },
      "source": [
        "# Podemos realizar a indexação por booleanos também (mas vira 1D)\n",
        "a[a > 25]"
      ],
      "execution_count": null,
      "outputs": []
    },
    {
      "cell_type": "markdown",
      "metadata": {
        "id": "TQuVEk_N0veD"
      },
      "source": [
        "Esses conceitos são totalmente iguais para qualquer número de dimensões.\n",
        "\n",
        "**Pergunta:** Como podemos extrair apenas o canal verde de uma imagem RGB?"
      ]
    },
    {
      "cell_type": "markdown",
      "metadata": {
        "id": "-98-sKho0veE"
      },
      "source": [
        "### Velocidade"
      ]
    },
    {
      "cell_type": "code",
      "metadata": {
        "id": "v1yfPOxC0veE"
      },
      "source": [
        "a = [[j for j in range(10000)] for _ in range(1000)]\n",
        "b = np.array(a)"
      ],
      "execution_count": null,
      "outputs": []
    },
    {
      "cell_type": "code",
      "metadata": {
        "id": "KJcQ8T8I0veE"
      },
      "source": [
        "%%time\n",
        "for i in range(len(a)):\n",
        "    for j in range(len(a[0])):\n",
        "        a[i][j] *= 10"
      ],
      "execution_count": null,
      "outputs": []
    },
    {
      "cell_type": "code",
      "metadata": {
        "id": "oRq2MiCw0veE"
      },
      "source": [
        "%%time\n",
        "b *= 10"
      ],
      "execution_count": null,
      "outputs": []
    }
  ]
}