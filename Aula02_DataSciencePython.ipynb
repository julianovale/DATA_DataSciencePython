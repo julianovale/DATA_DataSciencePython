{
  "nbformat": 4,
  "nbformat_minor": 0,
  "metadata": {
    "colab": {
      "name": "Aula02_DataSciencePython.ipynb",
      "provenance": [],
      "collapsed_sections": [],
      "authorship_tag": "ABX9TyNUz/jc8hhboPTH9cYtyxw3",
      "include_colab_link": true
    },
    "kernelspec": {
      "name": "python3",
      "display_name": "Python 3"
    }
  },
  "cells": [
    {
      "cell_type": "markdown",
      "metadata": {
        "id": "view-in-github",
        "colab_type": "text"
      },
      "source": [
        "<a href=\"https://colab.research.google.com/github/julianovale/DATA_DataSciencePython/blob/main/Aula02_DataSciencePython.ipynb\" target=\"_parent\"><img src=\"https://colab.research.google.com/assets/colab-badge.svg\" alt=\"Open In Colab\"/></a>"
      ]
    },
    {
      "cell_type": "markdown",
      "metadata": {
        "id": "2cyLdZrdDuyc"
      },
      "source": [
        "Vídeo aula 02:\r\n",
        "\r\n",
        "https://www.youtube.com/watch?v=9Z9CsZCFsTE&list=PLFE-LjWAAP9SfEuLXf3qrpw4szKWjlYq9&index=2"
      ]
    }
  ]
}